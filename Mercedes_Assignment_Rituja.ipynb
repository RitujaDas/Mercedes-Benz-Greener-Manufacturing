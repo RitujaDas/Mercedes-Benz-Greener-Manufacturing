{
 "cells": [
  {
   "cell_type": "code",
   "execution_count": 105,
   "metadata": {},
   "outputs": [],
   "source": [
    "import pandas as pd\n",
    "import numpy as np"
   ]
  },
  {
   "cell_type": "code",
   "execution_count": 106,
   "metadata": {},
   "outputs": [],
   "source": [
    "train_df = pd.read_csv('Mercedes_train.csv')"
   ]
  },
  {
   "cell_type": "code",
   "execution_count": 107,
   "metadata": {},
   "outputs": [
    {
     "data": {
      "text/html": [
       "<div>\n",
       "<style scoped>\n",
       "    .dataframe tbody tr th:only-of-type {\n",
       "        vertical-align: middle;\n",
       "    }\n",
       "\n",
       "    .dataframe tbody tr th {\n",
       "        vertical-align: top;\n",
       "    }\n",
       "\n",
       "    .dataframe thead th {\n",
       "        text-align: right;\n",
       "    }\n",
       "</style>\n",
       "<table border=\"1\" class=\"dataframe\">\n",
       "  <thead>\n",
       "    <tr style=\"text-align: right;\">\n",
       "      <th></th>\n",
       "      <th>ID</th>\n",
       "      <th>y</th>\n",
       "      <th>X0</th>\n",
       "      <th>X1</th>\n",
       "      <th>X2</th>\n",
       "      <th>X3</th>\n",
       "      <th>X4</th>\n",
       "      <th>X5</th>\n",
       "      <th>X6</th>\n",
       "      <th>X8</th>\n",
       "      <th>...</th>\n",
       "      <th>X375</th>\n",
       "      <th>X376</th>\n",
       "      <th>X377</th>\n",
       "      <th>X378</th>\n",
       "      <th>X379</th>\n",
       "      <th>X380</th>\n",
       "      <th>X382</th>\n",
       "      <th>X383</th>\n",
       "      <th>X384</th>\n",
       "      <th>X385</th>\n",
       "    </tr>\n",
       "  </thead>\n",
       "  <tbody>\n",
       "    <tr>\n",
       "      <th>0</th>\n",
       "      <td>0</td>\n",
       "      <td>130.81</td>\n",
       "      <td>k</td>\n",
       "      <td>v</td>\n",
       "      <td>at</td>\n",
       "      <td>a</td>\n",
       "      <td>d</td>\n",
       "      <td>u</td>\n",
       "      <td>j</td>\n",
       "      <td>o</td>\n",
       "      <td>...</td>\n",
       "      <td>0</td>\n",
       "      <td>0</td>\n",
       "      <td>1</td>\n",
       "      <td>0</td>\n",
       "      <td>0</td>\n",
       "      <td>0</td>\n",
       "      <td>0</td>\n",
       "      <td>0</td>\n",
       "      <td>0</td>\n",
       "      <td>0</td>\n",
       "    </tr>\n",
       "    <tr>\n",
       "      <th>1</th>\n",
       "      <td>6</td>\n",
       "      <td>88.53</td>\n",
       "      <td>k</td>\n",
       "      <td>t</td>\n",
       "      <td>av</td>\n",
       "      <td>e</td>\n",
       "      <td>d</td>\n",
       "      <td>y</td>\n",
       "      <td>l</td>\n",
       "      <td>o</td>\n",
       "      <td>...</td>\n",
       "      <td>1</td>\n",
       "      <td>0</td>\n",
       "      <td>0</td>\n",
       "      <td>0</td>\n",
       "      <td>0</td>\n",
       "      <td>0</td>\n",
       "      <td>0</td>\n",
       "      <td>0</td>\n",
       "      <td>0</td>\n",
       "      <td>0</td>\n",
       "    </tr>\n",
       "    <tr>\n",
       "      <th>2</th>\n",
       "      <td>7</td>\n",
       "      <td>76.26</td>\n",
       "      <td>az</td>\n",
       "      <td>w</td>\n",
       "      <td>n</td>\n",
       "      <td>c</td>\n",
       "      <td>d</td>\n",
       "      <td>x</td>\n",
       "      <td>j</td>\n",
       "      <td>x</td>\n",
       "      <td>...</td>\n",
       "      <td>0</td>\n",
       "      <td>0</td>\n",
       "      <td>0</td>\n",
       "      <td>0</td>\n",
       "      <td>0</td>\n",
       "      <td>0</td>\n",
       "      <td>1</td>\n",
       "      <td>0</td>\n",
       "      <td>0</td>\n",
       "      <td>0</td>\n",
       "    </tr>\n",
       "    <tr>\n",
       "      <th>3</th>\n",
       "      <td>9</td>\n",
       "      <td>80.62</td>\n",
       "      <td>az</td>\n",
       "      <td>t</td>\n",
       "      <td>n</td>\n",
       "      <td>f</td>\n",
       "      <td>d</td>\n",
       "      <td>x</td>\n",
       "      <td>l</td>\n",
       "      <td>e</td>\n",
       "      <td>...</td>\n",
       "      <td>0</td>\n",
       "      <td>0</td>\n",
       "      <td>0</td>\n",
       "      <td>0</td>\n",
       "      <td>0</td>\n",
       "      <td>0</td>\n",
       "      <td>0</td>\n",
       "      <td>0</td>\n",
       "      <td>0</td>\n",
       "      <td>0</td>\n",
       "    </tr>\n",
       "    <tr>\n",
       "      <th>4</th>\n",
       "      <td>13</td>\n",
       "      <td>78.02</td>\n",
       "      <td>az</td>\n",
       "      <td>v</td>\n",
       "      <td>n</td>\n",
       "      <td>f</td>\n",
       "      <td>d</td>\n",
       "      <td>h</td>\n",
       "      <td>d</td>\n",
       "      <td>n</td>\n",
       "      <td>...</td>\n",
       "      <td>0</td>\n",
       "      <td>0</td>\n",
       "      <td>0</td>\n",
       "      <td>0</td>\n",
       "      <td>0</td>\n",
       "      <td>0</td>\n",
       "      <td>0</td>\n",
       "      <td>0</td>\n",
       "      <td>0</td>\n",
       "      <td>0</td>\n",
       "    </tr>\n",
       "  </tbody>\n",
       "</table>\n",
       "<p>5 rows × 378 columns</p>\n",
       "</div>"
      ],
      "text/plain": [
       "   ID       y  X0 X1  X2 X3 X4 X5 X6 X8  ...  X375  X376  X377  X378  X379  \\\n",
       "0   0  130.81   k  v  at  a  d  u  j  o  ...     0     0     1     0     0   \n",
       "1   6   88.53   k  t  av  e  d  y  l  o  ...     1     0     0     0     0   \n",
       "2   7   76.26  az  w   n  c  d  x  j  x  ...     0     0     0     0     0   \n",
       "3   9   80.62  az  t   n  f  d  x  l  e  ...     0     0     0     0     0   \n",
       "4  13   78.02  az  v   n  f  d  h  d  n  ...     0     0     0     0     0   \n",
       "\n",
       "   X380  X382  X383  X384  X385  \n",
       "0     0     0     0     0     0  \n",
       "1     0     0     0     0     0  \n",
       "2     0     1     0     0     0  \n",
       "3     0     0     0     0     0  \n",
       "4     0     0     0     0     0  \n",
       "\n",
       "[5 rows x 378 columns]"
      ]
     },
     "execution_count": 107,
     "metadata": {},
     "output_type": "execute_result"
    }
   ],
   "source": [
    "train_df.head()"
   ]
  },
  {
   "cell_type": "code",
   "execution_count": 108,
   "metadata": {},
   "outputs": [
    {
     "data": {
      "text/plain": [
       "Index(['ID', 'y', 'X0', 'X1', 'X2', 'X3', 'X4', 'X5', 'X6', 'X8',\n",
       "       ...\n",
       "       'X375', 'X376', 'X377', 'X378', 'X379', 'X380', 'X382', 'X383', 'X384',\n",
       "       'X385'],\n",
       "      dtype='object', length=378)"
      ]
     },
     "execution_count": 108,
     "metadata": {},
     "output_type": "execute_result"
    }
   ],
   "source": [
    "train_df.columns"
   ]
  },
  {
   "cell_type": "code",
   "execution_count": 109,
   "metadata": {},
   "outputs": [
    {
     "data": {
      "text/plain": [
       "ID      0\n",
       "y       0\n",
       "X0      0\n",
       "X1      0\n",
       "X2      0\n",
       "       ..\n",
       "X380    0\n",
       "X382    0\n",
       "X383    0\n",
       "X384    0\n",
       "X385    0\n",
       "Length: 378, dtype: int64"
      ]
     },
     "execution_count": 109,
     "metadata": {},
     "output_type": "execute_result"
    }
   ],
   "source": [
    "#Checking for null values in train dataset\n",
    "\n",
    "train_df.isnull().sum()"
   ]
  },
  {
   "cell_type": "code",
   "execution_count": 110,
   "metadata": {},
   "outputs": [
    {
     "data": {
      "text/plain": [
       "ID        int64\n",
       "y       float64\n",
       "X0       object\n",
       "X1       object\n",
       "X2       object\n",
       "         ...   \n",
       "X380      int64\n",
       "X382      int64\n",
       "X383      int64\n",
       "X384      int64\n",
       "X385      int64\n",
       "Length: 378, dtype: object"
      ]
     },
     "execution_count": 110,
     "metadata": {},
     "output_type": "execute_result"
    }
   ],
   "source": [
    "train_df.dtypes"
   ]
  },
  {
   "cell_type": "code",
   "execution_count": 111,
   "metadata": {},
   "outputs": [],
   "source": [
    "train_df[\"ID\"] = train_df[\"ID\"].astype(\"category\")"
   ]
  },
  {
   "cell_type": "code",
   "execution_count": 112,
   "metadata": {},
   "outputs": [
    {
     "data": {
      "text/plain": [
       "ID      category\n",
       "y        float64\n",
       "X0        object\n",
       "X1        object\n",
       "X2        object\n",
       "          ...   \n",
       "X380       int64\n",
       "X382       int64\n",
       "X383       int64\n",
       "X384       int64\n",
       "X385       int64\n",
       "Length: 378, dtype: object"
      ]
     },
     "execution_count": 112,
     "metadata": {},
     "output_type": "execute_result"
    }
   ],
   "source": [
    "train_df.dtypes"
   ]
  },
  {
   "cell_type": "code",
   "execution_count": 113,
   "metadata": {},
   "outputs": [],
   "source": [
    "#Checking for columns variance\n",
    "\n",
    "def var_zero_cols(df):\n",
    "    var_df=pd.DataFrame(df.var(),columns=['Variance'])\n",
    "    return(list(var_df[var_df.Variance==0].index))"
   ]
  },
  {
   "cell_type": "code",
   "execution_count": 114,
   "metadata": {},
   "outputs": [
    {
     "data": {
      "text/plain": [
       "['X11',\n",
       " 'X93',\n",
       " 'X107',\n",
       " 'X233',\n",
       " 'X235',\n",
       " 'X268',\n",
       " 'X289',\n",
       " 'X290',\n",
       " 'X293',\n",
       " 'X297',\n",
       " 'X330',\n",
       " 'X347']"
      ]
     },
     "execution_count": 114,
     "metadata": {},
     "output_type": "execute_result"
    }
   ],
   "source": [
    "var_zero_cols(train_df)"
   ]
  },
  {
   "cell_type": "code",
   "execution_count": 115,
   "metadata": {},
   "outputs": [],
   "source": [
    "var_df=pd.DataFrame(train_df.var(),columns=['Variance'])"
   ]
  },
  {
   "cell_type": "code",
   "execution_count": 116,
   "metadata": {},
   "outputs": [],
   "source": [
    "#Removing the above columns for 0 variance\n",
    "\n",
    "train_df.drop(columns=list(var_df[var_df.Variance==0].index),inplace=True)"
   ]
  },
  {
   "cell_type": "code",
   "execution_count": 117,
   "metadata": {},
   "outputs": [],
   "source": [
    "#Checking for unique value in train dataset\n",
    "\n",
    "train_ucnt=pd.DataFrame(train_df.nunique(),columns=['uniqueCount'])"
   ]
  },
  {
   "cell_type": "code",
   "execution_count": 118,
   "metadata": {},
   "outputs": [
    {
     "data": {
      "text/html": [
       "<div>\n",
       "<style scoped>\n",
       "    .dataframe tbody tr th:only-of-type {\n",
       "        vertical-align: middle;\n",
       "    }\n",
       "\n",
       "    .dataframe tbody tr th {\n",
       "        vertical-align: top;\n",
       "    }\n",
       "\n",
       "    .dataframe thead th {\n",
       "        text-align: right;\n",
       "    }\n",
       "</style>\n",
       "<table border=\"1\" class=\"dataframe\">\n",
       "  <thead>\n",
       "    <tr style=\"text-align: right;\">\n",
       "      <th></th>\n",
       "      <th>uniqueCount</th>\n",
       "    </tr>\n",
       "  </thead>\n",
       "  <tbody>\n",
       "    <tr>\n",
       "      <th>ID</th>\n",
       "      <td>4209</td>\n",
       "    </tr>\n",
       "    <tr>\n",
       "      <th>y</th>\n",
       "      <td>2545</td>\n",
       "    </tr>\n",
       "    <tr>\n",
       "      <th>X0</th>\n",
       "      <td>47</td>\n",
       "    </tr>\n",
       "    <tr>\n",
       "      <th>X1</th>\n",
       "      <td>27</td>\n",
       "    </tr>\n",
       "    <tr>\n",
       "      <th>X2</th>\n",
       "      <td>44</td>\n",
       "    </tr>\n",
       "    <tr>\n",
       "      <th>X3</th>\n",
       "      <td>7</td>\n",
       "    </tr>\n",
       "    <tr>\n",
       "      <th>X4</th>\n",
       "      <td>4</td>\n",
       "    </tr>\n",
       "    <tr>\n",
       "      <th>X5</th>\n",
       "      <td>29</td>\n",
       "    </tr>\n",
       "    <tr>\n",
       "      <th>X6</th>\n",
       "      <td>12</td>\n",
       "    </tr>\n",
       "    <tr>\n",
       "      <th>X8</th>\n",
       "      <td>25</td>\n",
       "    </tr>\n",
       "  </tbody>\n",
       "</table>\n",
       "</div>"
      ],
      "text/plain": [
       "    uniqueCount\n",
       "ID         4209\n",
       "y          2545\n",
       "X0           47\n",
       "X1           27\n",
       "X2           44\n",
       "X3            7\n",
       "X4            4\n",
       "X5           29\n",
       "X6           12\n",
       "X8           25"
      ]
     },
     "execution_count": 118,
     "metadata": {},
     "output_type": "execute_result"
    }
   ],
   "source": [
    "train_ucnt[train_ucnt.uniqueCount>2]"
   ]
  },
  {
   "cell_type": "code",
   "execution_count": 119,
   "metadata": {},
   "outputs": [
    {
     "data": {
      "text/html": [
       "<div>\n",
       "<style scoped>\n",
       "    .dataframe tbody tr th:only-of-type {\n",
       "        vertical-align: middle;\n",
       "    }\n",
       "\n",
       "    .dataframe tbody tr th {\n",
       "        vertical-align: top;\n",
       "    }\n",
       "\n",
       "    .dataframe thead th {\n",
       "        text-align: right;\n",
       "    }\n",
       "</style>\n",
       "<table border=\"1\" class=\"dataframe\">\n",
       "  <thead>\n",
       "    <tr style=\"text-align: right;\">\n",
       "      <th></th>\n",
       "      <th>uniqueCount</th>\n",
       "    </tr>\n",
       "  </thead>\n",
       "  <tbody>\n",
       "    <tr>\n",
       "      <th>X10</th>\n",
       "      <td>2</td>\n",
       "    </tr>\n",
       "    <tr>\n",
       "      <th>X12</th>\n",
       "      <td>2</td>\n",
       "    </tr>\n",
       "    <tr>\n",
       "      <th>X13</th>\n",
       "      <td>2</td>\n",
       "    </tr>\n",
       "    <tr>\n",
       "      <th>X14</th>\n",
       "      <td>2</td>\n",
       "    </tr>\n",
       "    <tr>\n",
       "      <th>X15</th>\n",
       "      <td>2</td>\n",
       "    </tr>\n",
       "    <tr>\n",
       "      <th>...</th>\n",
       "      <td>...</td>\n",
       "    </tr>\n",
       "    <tr>\n",
       "      <th>X380</th>\n",
       "      <td>2</td>\n",
       "    </tr>\n",
       "    <tr>\n",
       "      <th>X382</th>\n",
       "      <td>2</td>\n",
       "    </tr>\n",
       "    <tr>\n",
       "      <th>X383</th>\n",
       "      <td>2</td>\n",
       "    </tr>\n",
       "    <tr>\n",
       "      <th>X384</th>\n",
       "      <td>2</td>\n",
       "    </tr>\n",
       "    <tr>\n",
       "      <th>X385</th>\n",
       "      <td>2</td>\n",
       "    </tr>\n",
       "  </tbody>\n",
       "</table>\n",
       "<p>356 rows × 1 columns</p>\n",
       "</div>"
      ],
      "text/plain": [
       "      uniqueCount\n",
       "X10             2\n",
       "X12             2\n",
       "X13             2\n",
       "X14             2\n",
       "X15             2\n",
       "...           ...\n",
       "X380            2\n",
       "X382            2\n",
       "X383            2\n",
       "X384            2\n",
       "X385            2\n",
       "\n",
       "[356 rows x 1 columns]"
      ]
     },
     "execution_count": 119,
     "metadata": {},
     "output_type": "execute_result"
    }
   ],
   "source": [
    "train_ucnt[train_ucnt.uniqueCount<=2]"
   ]
  },
  {
   "cell_type": "code",
   "execution_count": 120,
   "metadata": {},
   "outputs": [
    {
     "data": {
      "text/plain": [
       "z     360\n",
       "ak    349\n",
       "y     324\n",
       "ay    313\n",
       "t     306\n",
       "x     300\n",
       "o     269\n",
       "f     227\n",
       "n     195\n",
       "w     182\n",
       "j     181\n",
       "az    175\n",
       "aj    151\n",
       "s     106\n",
       "ap    103\n",
       "h      75\n",
       "d      73\n",
       "al     67\n",
       "v      36\n",
       "af     35\n",
       "ai     34\n",
       "m      34\n",
       "e      32\n",
       "ba     27\n",
       "at     25\n",
       "a      21\n",
       "ax     19\n",
       "am     18\n",
       "aq     18\n",
       "i      18\n",
       "u      17\n",
       "l      16\n",
       "aw     16\n",
       "ad     14\n",
       "k      11\n",
       "b      11\n",
       "au     11\n",
       "r      10\n",
       "as     10\n",
       "bc      6\n",
       "ao      4\n",
       "c       3\n",
       "aa      2\n",
       "q       2\n",
       "ac      1\n",
       "ab      1\n",
       "g       1\n",
       "Name: X0, dtype: int64"
      ]
     },
     "execution_count": 120,
     "metadata": {},
     "output_type": "execute_result"
    }
   ],
   "source": [
    "#Analyzing variables with unique counts >2\n",
    "#Analyzing X0\n",
    "\n",
    "train_df.X0.value_counts()"
   ]
  },
  {
   "cell_type": "code",
   "execution_count": 121,
   "metadata": {},
   "outputs": [
    {
     "data": {
      "text/plain": [
       "<AxesSubplot:xlabel='X0', ylabel='y'>"
      ]
     },
     "execution_count": 121,
     "metadata": {},
     "output_type": "execute_result"
    },
    {
     "data": {
      "image/png": "[encoded data removed]",
      "text/plain": [
       "<Figure size 1008x432 with 1 Axes>"
      ]
     },
     "metadata": {
      "needs_background": "light"
     },
     "output_type": "display_data"
    }
   ],
   "source": [
    "import matplotlib.pyplot as plt,seaborn as sns\n",
    "plt.figure(figsize=(14,6))\n",
    "sns.boxplot(x=train_df.X0,y=train_df.y)"
   ]
  },
  {
   "cell_type": "code",
   "execution_count": 122,
   "metadata": {},
   "outputs": [
    {
     "data": {
      "text/plain": [
       "<AxesSubplot:xlabel='X0', ylabel='y'>"
      ]
     },
     "execution_count": 122,
     "metadata": {},
     "output_type": "execute_result"
    },
    {
     "data": {
      "image/png": "[encoded data removed]",
      "text/plain": [
       "<Figure size 432x288 with 1 Axes>"
      ]
     },
     "metadata": {
      "needs_background": "light"
     },
     "output_type": "display_data"
    }
   ],
   "source": [
    "sns.boxplot(x=train_df.X0[train_df.X0=='y'],y=train_df.y)"
   ]
  },
  {
   "cell_type": "code",
   "execution_count": 123,
   "metadata": {},
   "outputs": [
    {
     "data": {
      "text/plain": [
       "array([883])"
      ]
     },
     "execution_count": 123,
     "metadata": {},
     "output_type": "execute_result"
    }
   ],
   "source": [
    "((train_df[train_df.X0=='y']['y']).sort_values(ascending=False))[:1].index.values"
   ]
  },
  {
   "cell_type": "code",
   "execution_count": 124,
   "metadata": {},
   "outputs": [],
   "source": [
    "train_df.drop(labels=((train_df[train_df.X0=='y']['y']).sort_values(ascending=False))[:1].index.values,inplace=True)"
   ]
  },
  {
   "cell_type": "code",
   "execution_count": 125,
   "metadata": {},
   "outputs": [
    {
     "data": {
      "text/plain": [
       "<AxesSubplot:xlabel='X0', ylabel='y'>"
      ]
     },
     "execution_count": 125,
     "metadata": {},
     "output_type": "execute_result"
    },
    {
     "data": {
      "image/png": "[encoded data removed]",
      "text/plain": [
       "<Figure size 1008x432 with 1 Axes>"
      ]
     },
     "metadata": {
      "needs_background": "light"
     },
     "output_type": "display_data"
    }
   ],
   "source": [
    "plt.figure(figsize=(14,6))\n",
    "sns.boxplot(x=train_df.X0,y=train_df.y)"
   ]
  },
  {
   "cell_type": "code",
   "execution_count": 126,
   "metadata": {},
   "outputs": [
    {
     "data": {
      "text/plain": [
       "z     360\n",
       "ak    349\n",
       "y     323\n",
       "ay    313\n",
       "t     306\n",
       "x     300\n",
       "o     269\n",
       "f     227\n",
       "n     195\n",
       "w     182\n",
       "j     181\n",
       "az    175\n",
       "aj    151\n",
       "s     106\n",
       "ap    103\n",
       "h      75\n",
       "d      73\n",
       "al     67\n",
       "v      36\n",
       "af     35\n",
       "ai     34\n",
       "m      34\n",
       "e      32\n",
       "ba     27\n",
       "at     25\n",
       "a      21\n",
       "ax     19\n",
       "am     18\n",
       "aq     18\n",
       "i      18\n",
       "u      17\n",
       "l      16\n",
       "aw     16\n",
       "ad     14\n",
       "k      11\n",
       "b      11\n",
       "au     11\n",
       "r      10\n",
       "as     10\n",
       "bc      6\n",
       "ao      4\n",
       "c       3\n",
       "aa      2\n",
       "q       2\n",
       "ac      1\n",
       "ab      1\n",
       "g       1\n",
       "Name: X0, dtype: int64"
      ]
     },
     "execution_count": 126,
     "metadata": {},
     "output_type": "execute_result"
    }
   ],
   "source": [
    "train_df.X0.value_counts()"
   ]
  },
  {
   "cell_type": "code",
   "execution_count": 127,
   "metadata": {},
   "outputs": [],
   "source": [
    "def transform_X0(df):\n",
    "    x0_grp=df.groupby('X0').aggregate(func='count')['ID'].reset_index()\n",
    "    df['X0'].replace(to_replace=x0_grp[x0_grp['ID']<100]['X0'].values,value='OT',inplace=True)"
   ]
  },
  {
   "cell_type": "code",
   "execution_count": 128,
   "metadata": {},
   "outputs": [],
   "source": [
    "transform_X0(train_df)"
   ]
  },
  {
   "cell_type": "code",
   "execution_count": 129,
   "metadata": {},
   "outputs": [
    {
     "data": {
      "text/plain": [
       "OT    668\n",
       "z     360\n",
       "ak    349\n",
       "y     323\n",
       "ay    313\n",
       "t     306\n",
       "x     300\n",
       "o     269\n",
       "f     227\n",
       "n     195\n",
       "w     182\n",
       "j     181\n",
       "az    175\n",
       "aj    151\n",
       "s     106\n",
       "ap    103\n",
       "Name: X0, dtype: int64"
      ]
     },
     "execution_count": 129,
     "metadata": {},
     "output_type": "execute_result"
    }
   ],
   "source": [
    "train_df.X0.value_counts()"
   ]
  },
  {
   "cell_type": "code",
   "execution_count": 130,
   "metadata": {},
   "outputs": [
    {
     "data": {
      "text/plain": [
       "<AxesSubplot:xlabel='X0', ylabel='y'>"
      ]
     },
     "execution_count": 130,
     "metadata": {},
     "output_type": "execute_result"
    },
    {
     "data": {
      "image/png": "[encoded data removed]",
      "text/plain": [
       "<Figure size 432x288 with 1 Axes>"
      ]
     },
     "metadata": {
      "needs_background": "light"
     },
     "output_type": "display_data"
    }
   ],
   "source": [
    "sns.barplot(x=train_df.X0,y=train_df.y)"
   ]
  },
  {
   "cell_type": "code",
   "execution_count": 131,
   "metadata": {},
   "outputs": [
    {
     "data": {
      "text/plain": [
       "aa    833\n",
       "s     598\n",
       "b     592\n",
       "l     590\n",
       "v     408\n",
       "r     250\n",
       "i     203\n",
       "a     143\n",
       "c     121\n",
       "o      82\n",
       "w      52\n",
       "z      46\n",
       "u      37\n",
       "e      33\n",
       "m      32\n",
       "t      31\n",
       "h      29\n",
       "y      23\n",
       "f      23\n",
       "j      22\n",
       "n      19\n",
       "k      17\n",
       "p       9\n",
       "g       6\n",
       "ab      3\n",
       "q       3\n",
       "d       3\n",
       "Name: X1, dtype: int64"
      ]
     },
     "execution_count": 131,
     "metadata": {},
     "output_type": "execute_result"
    }
   ],
   "source": [
    "#Analyzing X1\n",
    "\n",
    "train_df.X1.value_counts()"
   ]
  },
  {
   "cell_type": "code",
   "execution_count": 132,
   "metadata": {},
   "outputs": [
    {
     "data": {
      "text/plain": [
       "<AxesSubplot:xlabel='X1', ylabel='y'>"
      ]
     },
     "execution_count": 132,
     "metadata": {},
     "output_type": "execute_result"
    },
    {
     "data": {
      "image/png": "[encoded data removed]",
      "text/plain": [
       "<Figure size 1008x432 with 1 Axes>"
      ]
     },
     "metadata": {
      "needs_background": "light"
     },
     "output_type": "display_data"
    }
   ],
   "source": [
    "plt.figure(figsize=(14,6))\n",
    "sns.boxplot(x=train_df.X1,y=train_df.y)"
   ]
  },
  {
   "cell_type": "code",
   "execution_count": 133,
   "metadata": {},
   "outputs": [],
   "source": [
    "def transform_X1(df):\n",
    "    x1_grp=df.groupby('X1').aggregate(func='count')['ID'].reset_index()\n",
    "    df['X1'].replace(to_replace=x1_grp[x1_grp['ID']<100]['X1'].values,value='OT',inplace=True)"
   ]
  },
  {
   "cell_type": "code",
   "execution_count": 134,
   "metadata": {},
   "outputs": [],
   "source": [
    "transform_X1(train_df)"
   ]
  },
  {
   "cell_type": "code",
   "execution_count": 135,
   "metadata": {},
   "outputs": [
    {
     "data": {
      "text/plain": [
       "aa    833\n",
       "s     598\n",
       "b     592\n",
       "l     590\n",
       "OT    470\n",
       "v     408\n",
       "r     250\n",
       "i     203\n",
       "a     143\n",
       "c     121\n",
       "Name: X1, dtype: int64"
      ]
     },
     "execution_count": 135,
     "metadata": {},
     "output_type": "execute_result"
    }
   ],
   "source": [
    "train_df.X1.value_counts()"
   ]
  },
  {
   "cell_type": "code",
   "execution_count": 136,
   "metadata": {},
   "outputs": [
    {
     "data": {
      "text/plain": [
       "<AxesSubplot:xlabel='X1', ylabel='y'>"
      ]
     },
     "execution_count": 136,
     "metadata": {},
     "output_type": "execute_result"
    },
    {
     "data": {
      "image/png": "[encoded data removed]",
      "text/plain": [
       "<Figure size 1008x432 with 1 Axes>"
      ]
     },
     "metadata": {
      "needs_background": "light"
     },
     "output_type": "display_data"
    }
   ],
   "source": [
    "plt.figure(figsize=(14,6))\n",
    "sns.boxplot(x=train_df.X1,y=train_df.y)"
   ]
  },
  {
   "cell_type": "code",
   "execution_count": 137,
   "metadata": {},
   "outputs": [
    {
     "data": {
      "text/plain": [
       "<AxesSubplot:xlabel='X1', ylabel='y'>"
      ]
     },
     "execution_count": 137,
     "metadata": {},
     "output_type": "execute_result"
    },
    {
     "data": {
      "image/png": "[encoded data removed]",
      "text/plain": [
       "<Figure size 432x288 with 1 Axes>"
      ]
     },
     "metadata": {
      "needs_background": "light"
     },
     "output_type": "display_data"
    }
   ],
   "source": [
    "sns.barplot(x=train_df.X1,y=train_df.y)"
   ]
  },
  {
   "cell_type": "code",
   "execution_count": 138,
   "metadata": {},
   "outputs": [
    {
     "data": {
      "text/plain": [
       "c    1942\n",
       "f    1075\n",
       "a     440\n",
       "d     290\n",
       "g     241\n",
       "e     163\n",
       "b      57\n",
       "Name: X3, dtype: int64"
      ]
     },
     "execution_count": 138,
     "metadata": {},
     "output_type": "execute_result"
    }
   ],
   "source": [
    "#Analyzing X3\n",
    "\n",
    "train_df.X3.value_counts()"
   ]
  },
  {
   "cell_type": "code",
   "execution_count": 139,
   "metadata": {},
   "outputs": [
    {
     "data": {
      "text/plain": [
       "<AxesSubplot:xlabel='X3', ylabel='y'>"
      ]
     },
     "execution_count": 139,
     "metadata": {},
     "output_type": "execute_result"
    },
    {
     "data": {
      "image/png": "[encoded data removed]",
      "text/plain": [
       "<Figure size 1008x432 with 1 Axes>"
      ]
     },
     "metadata": {
      "needs_background": "light"
     },
     "output_type": "display_data"
    }
   ],
   "source": [
    "plt.figure(figsize=(14,6))\n",
    "sns.boxplot(x=train_df.X3,y=train_df.y)"
   ]
  },
  {
   "cell_type": "code",
   "execution_count": 140,
   "metadata": {},
   "outputs": [
    {
     "data": {
      "text/plain": [
       "<AxesSubplot:xlabel='X3', ylabel='y'>"
      ]
     },
     "execution_count": 140,
     "metadata": {},
     "output_type": "execute_result"
    },
    {
     "data": {
      "image/png": "[encoded data removed]",
      "text/plain": [
       "<Figure size 432x288 with 1 Axes>"
      ]
     },
     "metadata": {
      "needs_background": "light"
     },
     "output_type": "display_data"
    }
   ],
   "source": [
    "sns.barplot(x=train_df.X3,y=train_df.y)"
   ]
  },
  {
   "cell_type": "code",
   "execution_count": 141,
   "metadata": {},
   "outputs": [
    {
     "data": {
      "text/plain": [
       "d    4204\n",
       "a       2\n",
       "c       1\n",
       "b       1\n",
       "Name: X4, dtype: int64"
      ]
     },
     "execution_count": 141,
     "metadata": {},
     "output_type": "execute_result"
    }
   ],
   "source": [
    "#Analyzing X4\n",
    "\n",
    "train_df.X4.value_counts()"
   ]
  },
  {
   "cell_type": "code",
   "execution_count": 142,
   "metadata": {},
   "outputs": [
    {
     "data": {
      "text/plain": [
       "array(['b', 'c', 'a', 'a'], dtype=object)"
      ]
     },
     "execution_count": 142,
     "metadata": {},
     "output_type": "execute_result"
    }
   ],
   "source": [
    "#Transforming X4 to the data d and not d\n",
    "\n",
    "train_df[train_df.X4!='d']['X4'].values"
   ]
  },
  {
   "cell_type": "code",
   "execution_count": 143,
   "metadata": {},
   "outputs": [],
   "source": [
    "def transform_X4(df):\n",
    "    df['X4'].replace(to_replace=df[df.X4!='d']['X4'].values,value='~d',inplace=True)"
   ]
  },
  {
   "cell_type": "code",
   "execution_count": 144,
   "metadata": {},
   "outputs": [],
   "source": [
    "transform_X4(train_df)"
   ]
  },
  {
   "cell_type": "code",
   "execution_count": 145,
   "metadata": {},
   "outputs": [
    {
     "data": {
      "text/plain": [
       "d     4204\n",
       "~d       4\n",
       "Name: X4, dtype: int64"
      ]
     },
     "execution_count": 145,
     "metadata": {},
     "output_type": "execute_result"
    }
   ],
   "source": [
    "train_df.X4.value_counts()"
   ]
  },
  {
   "cell_type": "code",
   "execution_count": 146,
   "metadata": {},
   "outputs": [
    {
     "data": {
      "text/plain": [
       "<AxesSubplot:xlabel='X4', ylabel='y'>"
      ]
     },
     "execution_count": 146,
     "metadata": {},
     "output_type": "execute_result"
    },
    {
     "data": {
      "image/png": "[encoded data removed]",
      "text/plain": [
       "<Figure size 432x288 with 1 Axes>"
      ]
     },
     "metadata": {
      "needs_background": "light"
     },
     "output_type": "display_data"
    }
   ],
   "source": [
    "sns.barplot(x=train_df.X4,y=train_df.y)"
   ]
  },
  {
   "cell_type": "code",
   "execution_count": 147,
   "metadata": {},
   "outputs": [
    {
     "data": {
      "text/plain": [
       "w     231\n",
       "v     231\n",
       "q     220\n",
       "r     215\n",
       "d     214\n",
       "s     214\n",
       "n     212\n",
       "m     208\n",
       "p     208\n",
       "i     207\n",
       "ae    205\n",
       "ag    203\n",
       "ac    200\n",
       "ab    197\n",
       "l     195\n",
       "af    188\n",
       "ad    185\n",
       "k     177\n",
       "c     131\n",
       "j     125\n",
       "aa    112\n",
       "ah     97\n",
       "o      20\n",
       "f       7\n",
       "x       2\n",
       "y       1\n",
       "h       1\n",
       "u       1\n",
       "g       1\n",
       "Name: X5, dtype: int64"
      ]
     },
     "execution_count": 147,
     "metadata": {},
     "output_type": "execute_result"
    }
   ],
   "source": [
    "#Analyzing X5\n",
    "\n",
    "train_df.X5.value_counts()"
   ]
  },
  {
   "cell_type": "code",
   "execution_count": 148,
   "metadata": {},
   "outputs": [],
   "source": [
    "def transform_X5(df):\n",
    "    x5_grp=df.groupby('X5').aggregate(func='count')['ID'].reset_index()\n",
    "    df['X5'].replace(to_replace=x5_grp[x5_grp['ID']<100]['X5'].values,value='OT',inplace=True)"
   ]
  },
  {
   "cell_type": "code",
   "execution_count": 149,
   "metadata": {},
   "outputs": [],
   "source": [
    "transform_X5(train_df)"
   ]
  },
  {
   "cell_type": "code",
   "execution_count": 150,
   "metadata": {},
   "outputs": [
    {
     "data": {
      "text/plain": [
       "w     231\n",
       "v     231\n",
       "q     220\n",
       "r     215\n",
       "s     214\n",
       "d     214\n",
       "n     212\n",
       "p     208\n",
       "m     208\n",
       "i     207\n",
       "ae    205\n",
       "ag    203\n",
       "ac    200\n",
       "ab    197\n",
       "l     195\n",
       "af    188\n",
       "ad    185\n",
       "k     177\n",
       "c     131\n",
       "OT    130\n",
       "j     125\n",
       "aa    112\n",
       "Name: X5, dtype: int64"
      ]
     },
     "execution_count": 150,
     "metadata": {},
     "output_type": "execute_result"
    }
   ],
   "source": [
    "train_df.X5.value_counts()"
   ]
  },
  {
   "cell_type": "code",
   "execution_count": 151,
   "metadata": {},
   "outputs": [
    {
     "data": {
      "text/plain": [
       "<AxesSubplot:xlabel='X5', ylabel='y'>"
      ]
     },
     "execution_count": 151,
     "metadata": {},
     "output_type": "execute_result"
    },
    {
     "data": {
      "image/png": "[encoded data removed]",
      "text/plain": [
       "<Figure size 1008x432 with 1 Axes>"
      ]
     },
     "metadata": {
      "needs_background": "light"
     },
     "output_type": "display_data"
    }
   ],
   "source": [
    "plt.figure(figsize=(14,6))\n",
    "sns.boxplot(x=train_df.X5,y=train_df.y)"
   ]
  },
  {
   "cell_type": "code",
   "execution_count": 152,
   "metadata": {},
   "outputs": [
    {
     "data": {
      "text/plain": [
       "<AxesSubplot:xlabel='X5', ylabel='y'>"
      ]
     },
     "execution_count": 152,
     "metadata": {},
     "output_type": "execute_result"
    },
    {
     "data": {
      "image/png": "[encoded data removed]",
      "text/plain": [
       "<Figure size 432x288 with 1 Axes>"
      ]
     },
     "metadata": {
      "needs_background": "light"
     },
     "output_type": "display_data"
    }
   ],
   "source": [
    "sns.barplot(x=train_df.X5,y=train_df.y)"
   ]
  },
  {
   "cell_type": "code",
   "execution_count": 153,
   "metadata": {},
   "outputs": [
    {
     "data": {
      "text/plain": [
       "g    1042\n",
       "j    1039\n",
       "d     625\n",
       "i     488\n",
       "l     477\n",
       "a     206\n",
       "h     190\n",
       "k      43\n",
       "c      38\n",
       "b      28\n",
       "f      20\n",
       "e      12\n",
       "Name: X6, dtype: int64"
      ]
     },
     "execution_count": 153,
     "metadata": {},
     "output_type": "execute_result"
    }
   ],
   "source": [
    "#Analyzing X6\n",
    "\n",
    "train_df.X6.value_counts()"
   ]
  },
  {
   "cell_type": "code",
   "execution_count": 154,
   "metadata": {},
   "outputs": [
    {
     "data": {
      "text/plain": [
       "<AxesSubplot:xlabel='X6', ylabel='y'>"
      ]
     },
     "execution_count": 154,
     "metadata": {},
     "output_type": "execute_result"
    },
    {
     "data": {
      "image/png": "[encoded data removed]",
      "text/plain": [
       "<Figure size 1008x432 with 1 Axes>"
      ]
     },
     "metadata": {
      "needs_background": "light"
     },
     "output_type": "display_data"
    }
   ],
   "source": [
    "plt.figure(figsize=(14,6))\n",
    "sns.barplot(x=train_df.X6,y=train_df.y)"
   ]
  },
  {
   "cell_type": "code",
   "execution_count": 155,
   "metadata": {},
   "outputs": [
    {
     "data": {
      "text/plain": [
       "j    277\n",
       "s    255\n",
       "f    243\n",
       "n    242\n",
       "i    237\n",
       "e    225\n",
       "r    219\n",
       "a    210\n",
       "w    196\n",
       "v    194\n",
       "b    190\n",
       "k    176\n",
       "o    163\n",
       "m    155\n",
       "g    130\n",
       "u    119\n",
       "t    118\n",
       "q    117\n",
       "h    117\n",
       "y    116\n",
       "x    105\n",
       "d    103\n",
       "l    101\n",
       "c    100\n",
       "p    100\n",
       "Name: X8, dtype: int64"
      ]
     },
     "execution_count": 155,
     "metadata": {},
     "output_type": "execute_result"
    }
   ],
   "source": [
    "#Analyzing X8\n",
    "\n",
    "train_df.X8.value_counts()"
   ]
  },
  {
   "cell_type": "code",
   "execution_count": 156,
   "metadata": {},
   "outputs": [
    {
     "data": {
      "text/plain": [
       "<AxesSubplot:xlabel='X8', ylabel='y'>"
      ]
     },
     "execution_count": 156,
     "metadata": {},
     "output_type": "execute_result"
    },
    {
     "data": {
      "image/png": "[encoded data removed]",
      "text/plain": [
       "<Figure size 1008x432 with 1 Axes>"
      ]
     },
     "metadata": {
      "needs_background": "light"
     },
     "output_type": "display_data"
    }
   ],
   "source": [
    "plt.figure(figsize=(14,6))\n",
    "sns.barplot(x=train_df.X8,y=train_df.y)"
   ]
  },
  {
   "cell_type": "code",
   "execution_count": 157,
   "metadata": {},
   "outputs": [],
   "source": [
    "#Applying Label Encoder on categorical features to convert them into numerical\n",
    "\n",
    "from sklearn.preprocessing import LabelEncoder"
   ]
  },
  {
   "cell_type": "code",
   "execution_count": 158,
   "metadata": {},
   "outputs": [],
   "source": [
    "x=train_df.drop(columns='y')\n",
    "y=train_df.y"
   ]
  },
  {
   "cell_type": "code",
   "execution_count": 159,
   "metadata": {},
   "outputs": [
    {
     "data": {
      "text/html": [
       "<div>\n",
       "<style scoped>\n",
       "    .dataframe tbody tr th:only-of-type {\n",
       "        vertical-align: middle;\n",
       "    }\n",
       "\n",
       "    .dataframe tbody tr th {\n",
       "        vertical-align: top;\n",
       "    }\n",
       "\n",
       "    .dataframe thead th {\n",
       "        text-align: right;\n",
       "    }\n",
       "</style>\n",
       "<table border=\"1\" class=\"dataframe\">\n",
       "  <thead>\n",
       "    <tr style=\"text-align: right;\">\n",
       "      <th></th>\n",
       "      <th>ID</th>\n",
       "      <th>X0</th>\n",
       "      <th>X1</th>\n",
       "      <th>X2</th>\n",
       "      <th>X3</th>\n",
       "      <th>X4</th>\n",
       "      <th>X5</th>\n",
       "      <th>X6</th>\n",
       "      <th>X8</th>\n",
       "      <th>X10</th>\n",
       "      <th>...</th>\n",
       "      <th>X375</th>\n",
       "      <th>X376</th>\n",
       "      <th>X377</th>\n",
       "      <th>X378</th>\n",
       "      <th>X379</th>\n",
       "      <th>X380</th>\n",
       "      <th>X382</th>\n",
       "      <th>X383</th>\n",
       "      <th>X384</th>\n",
       "      <th>X385</th>\n",
       "    </tr>\n",
       "  </thead>\n",
       "  <tbody>\n",
       "    <tr>\n",
       "      <th>0</th>\n",
       "      <td>0</td>\n",
       "      <td>OT</td>\n",
       "      <td>v</td>\n",
       "      <td>at</td>\n",
       "      <td>a</td>\n",
       "      <td>d</td>\n",
       "      <td>OT</td>\n",
       "      <td>j</td>\n",
       "      <td>o</td>\n",
       "      <td>0</td>\n",
       "      <td>...</td>\n",
       "      <td>0</td>\n",
       "      <td>0</td>\n",
       "      <td>1</td>\n",
       "      <td>0</td>\n",
       "      <td>0</td>\n",
       "      <td>0</td>\n",
       "      <td>0</td>\n",
       "      <td>0</td>\n",
       "      <td>0</td>\n",
       "      <td>0</td>\n",
       "    </tr>\n",
       "    <tr>\n",
       "      <th>1</th>\n",
       "      <td>6</td>\n",
       "      <td>OT</td>\n",
       "      <td>OT</td>\n",
       "      <td>av</td>\n",
       "      <td>e</td>\n",
       "      <td>d</td>\n",
       "      <td>OT</td>\n",
       "      <td>l</td>\n",
       "      <td>o</td>\n",
       "      <td>0</td>\n",
       "      <td>...</td>\n",
       "      <td>1</td>\n",
       "      <td>0</td>\n",
       "      <td>0</td>\n",
       "      <td>0</td>\n",
       "      <td>0</td>\n",
       "      <td>0</td>\n",
       "      <td>0</td>\n",
       "      <td>0</td>\n",
       "      <td>0</td>\n",
       "      <td>0</td>\n",
       "    </tr>\n",
       "    <tr>\n",
       "      <th>2</th>\n",
       "      <td>7</td>\n",
       "      <td>az</td>\n",
       "      <td>OT</td>\n",
       "      <td>n</td>\n",
       "      <td>c</td>\n",
       "      <td>d</td>\n",
       "      <td>OT</td>\n",
       "      <td>j</td>\n",
       "      <td>x</td>\n",
       "      <td>0</td>\n",
       "      <td>...</td>\n",
       "      <td>0</td>\n",
       "      <td>0</td>\n",
       "      <td>0</td>\n",
       "      <td>0</td>\n",
       "      <td>0</td>\n",
       "      <td>0</td>\n",
       "      <td>1</td>\n",
       "      <td>0</td>\n",
       "      <td>0</td>\n",
       "      <td>0</td>\n",
       "    </tr>\n",
       "    <tr>\n",
       "      <th>3</th>\n",
       "      <td>9</td>\n",
       "      <td>az</td>\n",
       "      <td>OT</td>\n",
       "      <td>n</td>\n",
       "      <td>f</td>\n",
       "      <td>d</td>\n",
       "      <td>OT</td>\n",
       "      <td>l</td>\n",
       "      <td>e</td>\n",
       "      <td>0</td>\n",
       "      <td>...</td>\n",
       "      <td>0</td>\n",
       "      <td>0</td>\n",
       "      <td>0</td>\n",
       "      <td>0</td>\n",
       "      <td>0</td>\n",
       "      <td>0</td>\n",
       "      <td>0</td>\n",
       "      <td>0</td>\n",
       "      <td>0</td>\n",
       "      <td>0</td>\n",
       "    </tr>\n",
       "    <tr>\n",
       "      <th>4</th>\n",
       "      <td>13</td>\n",
       "      <td>az</td>\n",
       "      <td>v</td>\n",
       "      <td>n</td>\n",
       "      <td>f</td>\n",
       "      <td>d</td>\n",
       "      <td>OT</td>\n",
       "      <td>d</td>\n",
       "      <td>n</td>\n",
       "      <td>0</td>\n",
       "      <td>...</td>\n",
       "      <td>0</td>\n",
       "      <td>0</td>\n",
       "      <td>0</td>\n",
       "      <td>0</td>\n",
       "      <td>0</td>\n",
       "      <td>0</td>\n",
       "      <td>0</td>\n",
       "      <td>0</td>\n",
       "      <td>0</td>\n",
       "      <td>0</td>\n",
       "    </tr>\n",
       "  </tbody>\n",
       "</table>\n",
       "<p>5 rows × 365 columns</p>\n",
       "</div>"
      ],
      "text/plain": [
       "   ID  X0  X1  X2 X3 X4  X5 X6 X8  X10  ...  X375  X376  X377  X378  X379  \\\n",
       "0   0  OT   v  at  a  d  OT  j  o    0  ...     0     0     1     0     0   \n",
       "1   6  OT  OT  av  e  d  OT  l  o    0  ...     1     0     0     0     0   \n",
       "2   7  az  OT   n  c  d  OT  j  x    0  ...     0     0     0     0     0   \n",
       "3   9  az  OT   n  f  d  OT  l  e    0  ...     0     0     0     0     0   \n",
       "4  13  az   v   n  f  d  OT  d  n    0  ...     0     0     0     0     0   \n",
       "\n",
       "   X380  X382  X383  X384  X385  \n",
       "0     0     0     0     0     0  \n",
       "1     0     0     0     0     0  \n",
       "2     0     1     0     0     0  \n",
       "3     0     0     0     0     0  \n",
       "4     0     0     0     0     0  \n",
       "\n",
       "[5 rows x 365 columns]"
      ]
     },
     "execution_count": 159,
     "metadata": {},
     "output_type": "execute_result"
    }
   ],
   "source": [
    "x.head()"
   ]
  },
  {
   "cell_type": "code",
   "execution_count": 160,
   "metadata": {},
   "outputs": [],
   "source": [
    "df_cat=train_df.select_dtypes(include=\"object\").columns"
   ]
  },
  {
   "cell_type": "code",
   "execution_count": 161,
   "metadata": {},
   "outputs": [
    {
     "data": {
      "text/plain": [
       "Index(['X0', 'X1', 'X2', 'X3', 'X4', 'X5', 'X6', 'X8'], dtype='object')"
      ]
     },
     "execution_count": 161,
     "metadata": {},
     "output_type": "execute_result"
    }
   ],
   "source": [
    "df_cat"
   ]
  },
  {
   "cell_type": "code",
   "execution_count": 162,
   "metadata": {},
   "outputs": [],
   "source": [
    "def transform_labels(df,x):\n",
    "    df_cat=df.select_dtypes(include=\"object\").columns\n",
    "    le=LabelEncoder()\n",
    "    for i in df_cat:\n",
    "        le.fit(x[i])\n",
    "        x[i]=le.transform(x[i])"
   ]
  },
  {
   "cell_type": "code",
   "execution_count": 163,
   "metadata": {},
   "outputs": [],
   "source": [
    "transform_labels(train_df,x)"
   ]
  },
  {
   "cell_type": "code",
   "execution_count": 164,
   "metadata": {},
   "outputs": [
    {
     "data": {
      "text/html": [
       "<div>\n",
       "<style scoped>\n",
       "    .dataframe tbody tr th:only-of-type {\n",
       "        vertical-align: middle;\n",
       "    }\n",
       "\n",
       "    .dataframe tbody tr th {\n",
       "        vertical-align: top;\n",
       "    }\n",
       "\n",
       "    .dataframe thead th {\n",
       "        text-align: right;\n",
       "    }\n",
       "</style>\n",
       "<table border=\"1\" class=\"dataframe\">\n",
       "  <thead>\n",
       "    <tr style=\"text-align: right;\">\n",
       "      <th></th>\n",
       "      <th>ID</th>\n",
       "      <th>X0</th>\n",
       "      <th>X1</th>\n",
       "      <th>X2</th>\n",
       "      <th>X3</th>\n",
       "      <th>X4</th>\n",
       "      <th>X5</th>\n",
       "      <th>X6</th>\n",
       "      <th>X8</th>\n",
       "      <th>X10</th>\n",
       "      <th>...</th>\n",
       "      <th>X375</th>\n",
       "      <th>X376</th>\n",
       "      <th>X377</th>\n",
       "      <th>X378</th>\n",
       "      <th>X379</th>\n",
       "      <th>X380</th>\n",
       "      <th>X382</th>\n",
       "      <th>X383</th>\n",
       "      <th>X384</th>\n",
       "      <th>X385</th>\n",
       "    </tr>\n",
       "  </thead>\n",
       "  <tbody>\n",
       "    <tr>\n",
       "      <th>0</th>\n",
       "      <td>0</td>\n",
       "      <td>0</td>\n",
       "      <td>9</td>\n",
       "      <td>17</td>\n",
       "      <td>0</td>\n",
       "      <td>0</td>\n",
       "      <td>0</td>\n",
       "      <td>9</td>\n",
       "      <td>14</td>\n",
       "      <td>0</td>\n",
       "      <td>...</td>\n",
       "      <td>0</td>\n",
       "      <td>0</td>\n",
       "      <td>1</td>\n",
       "      <td>0</td>\n",
       "      <td>0</td>\n",
       "      <td>0</td>\n",
       "      <td>0</td>\n",
       "      <td>0</td>\n",
       "      <td>0</td>\n",
       "      <td>0</td>\n",
       "    </tr>\n",
       "    <tr>\n",
       "      <th>1</th>\n",
       "      <td>6</td>\n",
       "      <td>0</td>\n",
       "      <td>0</td>\n",
       "      <td>19</td>\n",
       "      <td>4</td>\n",
       "      <td>0</td>\n",
       "      <td>0</td>\n",
       "      <td>11</td>\n",
       "      <td>14</td>\n",
       "      <td>0</td>\n",
       "      <td>...</td>\n",
       "      <td>1</td>\n",
       "      <td>0</td>\n",
       "      <td>0</td>\n",
       "      <td>0</td>\n",
       "      <td>0</td>\n",
       "      <td>0</td>\n",
       "      <td>0</td>\n",
       "      <td>0</td>\n",
       "      <td>0</td>\n",
       "      <td>0</td>\n",
       "    </tr>\n",
       "    <tr>\n",
       "      <th>2</th>\n",
       "      <td>7</td>\n",
       "      <td>5</td>\n",
       "      <td>0</td>\n",
       "      <td>34</td>\n",
       "      <td>2</td>\n",
       "      <td>0</td>\n",
       "      <td>0</td>\n",
       "      <td>9</td>\n",
       "      <td>23</td>\n",
       "      <td>0</td>\n",
       "      <td>...</td>\n",
       "      <td>0</td>\n",
       "      <td>0</td>\n",
       "      <td>0</td>\n",
       "      <td>0</td>\n",
       "      <td>0</td>\n",
       "      <td>0</td>\n",
       "      <td>1</td>\n",
       "      <td>0</td>\n",
       "      <td>0</td>\n",
       "      <td>0</td>\n",
       "    </tr>\n",
       "    <tr>\n",
       "      <th>3</th>\n",
       "      <td>9</td>\n",
       "      <td>5</td>\n",
       "      <td>0</td>\n",
       "      <td>34</td>\n",
       "      <td>5</td>\n",
       "      <td>0</td>\n",
       "      <td>0</td>\n",
       "      <td>11</td>\n",
       "      <td>4</td>\n",
       "      <td>0</td>\n",
       "      <td>...</td>\n",
       "      <td>0</td>\n",
       "      <td>0</td>\n",
       "      <td>0</td>\n",
       "      <td>0</td>\n",
       "      <td>0</td>\n",
       "      <td>0</td>\n",
       "      <td>0</td>\n",
       "      <td>0</td>\n",
       "      <td>0</td>\n",
       "      <td>0</td>\n",
       "    </tr>\n",
       "    <tr>\n",
       "      <th>4</th>\n",
       "      <td>13</td>\n",
       "      <td>5</td>\n",
       "      <td>9</td>\n",
       "      <td>34</td>\n",
       "      <td>5</td>\n",
       "      <td>0</td>\n",
       "      <td>0</td>\n",
       "      <td>3</td>\n",
       "      <td>13</td>\n",
       "      <td>0</td>\n",
       "      <td>...</td>\n",
       "      <td>0</td>\n",
       "      <td>0</td>\n",
       "      <td>0</td>\n",
       "      <td>0</td>\n",
       "      <td>0</td>\n",
       "      <td>0</td>\n",
       "      <td>0</td>\n",
       "      <td>0</td>\n",
       "      <td>0</td>\n",
       "      <td>0</td>\n",
       "    </tr>\n",
       "  </tbody>\n",
       "</table>\n",
       "<p>5 rows × 365 columns</p>\n",
       "</div>"
      ],
      "text/plain": [
       "   ID  X0  X1  X2  X3  X4  X5  X6  X8  X10  ...  X375  X376  X377  X378  X379  \\\n",
       "0   0   0   9  17   0   0   0   9  14    0  ...     0     0     1     0     0   \n",
       "1   6   0   0  19   4   0   0  11  14    0  ...     1     0     0     0     0   \n",
       "2   7   5   0  34   2   0   0   9  23    0  ...     0     0     0     0     0   \n",
       "3   9   5   0  34   5   0   0  11   4    0  ...     0     0     0     0     0   \n",
       "4  13   5   9  34   5   0   0   3  13    0  ...     0     0     0     0     0   \n",
       "\n",
       "   X380  X382  X383  X384  X385  \n",
       "0     0     0     0     0     0  \n",
       "1     0     0     0     0     0  \n",
       "2     0     1     0     0     0  \n",
       "3     0     0     0     0     0  \n",
       "4     0     0     0     0     0  \n",
       "\n",
       "[5 rows x 365 columns]"
      ]
     },
     "execution_count": 164,
     "metadata": {},
     "output_type": "execute_result"
    }
   ],
   "source": [
    "x.head()"
   ]
  },
  {
   "cell_type": "code",
   "execution_count": 165,
   "metadata": {},
   "outputs": [],
   "source": [
    "#df_num = merc_train.select_dtypes(include=[\"float64\", \"int64\"])"
   ]
  },
  {
   "cell_type": "code",
   "execution_count": 166,
   "metadata": {},
   "outputs": [],
   "source": [
    "#from sklearn.preprocessing import MinMaxScaler"
   ]
  },
  {
   "cell_type": "code",
   "execution_count": 167,
   "metadata": {},
   "outputs": [],
   "source": [
    "#mn = MinMaxScaler()\n",
    "#df_num_sc = mn.fit_transform(df_num)"
   ]
  },
  {
   "cell_type": "code",
   "execution_count": 168,
   "metadata": {},
   "outputs": [],
   "source": [
    "#df_num_df = pd.DataFrame(df_num_sc, index=df_num.index, columns=df_num.columns)"
   ]
  },
  {
   "cell_type": "code",
   "execution_count": 169,
   "metadata": {},
   "outputs": [],
   "source": [
    "#Performing PCA\n",
    "\n",
    "from sklearn.decomposition import PCA"
   ]
  },
  {
   "cell_type": "code",
   "execution_count": 170,
   "metadata": {},
   "outputs": [],
   "source": [
    "pcaModel=PCA()"
   ]
  },
  {
   "cell_type": "code",
   "execution_count": 171,
   "metadata": {},
   "outputs": [
    {
     "data": {
      "text/plain": [
       "PCA(copy=True, iterated_power='auto', n_components=None, random_state=None,\n",
       "    svd_solver='auto', tol=0.0, whiten=False)"
      ]
     },
     "execution_count": 171,
     "metadata": {},
     "output_type": "execute_result"
    }
   ],
   "source": [
    "pcaModel.fit(x)"
   ]
  },
  {
   "cell_type": "code",
   "execution_count": 172,
   "metadata": {},
   "outputs": [
    {
     "data": {
      "text/plain": [
       "array([9.99955823e-01, 2.02031274e-05, 8.27667759e-06, 4.71581853e-06,\n",
       "       4.10984489e-06, 1.56398011e-06, 1.35712049e-06, 6.84232687e-07,\n",
       "       3.74995735e-07, 2.76672393e-07, 2.19715927e-07, 2.07779711e-07,\n",
       "       1.83664337e-07, 1.51466846e-07, 1.31700482e-07, 1.15328477e-07,\n",
       "       9.26779299e-08, 8.71780908e-08, 7.61437627e-08, 7.02787075e-08,\n",
       "       6.33831541e-08, 5.82102981e-08, 5.66250743e-08, 5.12223311e-08,\n",
       "       4.59628637e-08, 4.35647271e-08, 3.90046984e-08, 3.72616148e-08,\n",
       "       3.40363069e-08, 3.23086142e-08, 3.13806920e-08, 2.88308323e-08,\n",
       "       2.81535023e-08, 2.63693700e-08, 2.57326121e-08, 2.43771146e-08,\n",
       "       2.23981286e-08, 2.08792599e-08, 1.93239882e-08, 1.86595424e-08,\n",
       "       1.76475558e-08, 1.69603739e-08, 1.61863569e-08, 1.58910084e-08,\n",
       "       1.54263656e-08, 1.51046694e-08, 1.36777039e-08, 1.33847659e-08,\n",
       "       1.29593011e-08, 1.26448189e-08, 1.22608871e-08, 1.22260219e-08,\n",
       "       1.17827282e-08, 1.13101376e-08, 1.06150305e-08, 1.02315367e-08,\n",
       "       9.70134472e-09, 9.60743017e-09, 9.35631326e-09, 9.18073500e-09,\n",
       "       8.84262669e-09, 8.29439497e-09, 8.19393165e-09, 7.76070298e-09,\n",
       "       7.69569506e-09, 7.17391206e-09, 7.00671186e-09, 6.76884000e-09,\n",
       "       6.73068781e-09, 6.35266902e-09, 6.29413176e-09, 6.03798446e-09,\n",
       "       5.94062628e-09, 5.72513987e-09, 5.55147897e-09, 5.55037685e-09,\n",
       "       5.37569752e-09, 5.16270822e-09, 5.06115559e-09, 4.99255080e-09,\n",
       "       4.83156953e-09, 4.73430882e-09, 4.58940289e-09, 4.48901809e-09,\n",
       "       4.32867606e-09, 4.18250203e-09, 4.15177758e-09, 3.98083493e-09,\n",
       "       3.92359810e-09, 3.80477273e-09, 3.78585454e-09, 3.72308967e-09,\n",
       "       3.71045003e-09, 3.50071555e-09, 3.32789501e-09, 3.26652992e-09,\n",
       "       3.21011244e-09, 3.13716353e-09, 3.11108854e-09, 3.07329417e-09,\n",
       "       2.98938926e-09, 2.85739734e-09, 2.79758737e-09, 2.77324602e-09,\n",
       "       2.65244397e-09, 2.55238423e-09, 2.46176301e-09, 2.44096104e-09,\n",
       "       2.35170301e-09, 2.31482879e-09, 2.26843868e-09, 2.19281712e-09,\n",
       "       2.12918453e-09, 2.09950607e-09, 2.02211393e-09, 1.98673297e-09,\n",
       "       1.92564038e-09, 1.85935571e-09, 1.82668109e-09, 1.72093440e-09,\n",
       "       1.69569413e-09, 1.67627971e-09, 1.63396980e-09, 1.59591420e-09,\n",
       "       1.53468051e-09, 1.47235717e-09, 1.44506607e-09, 1.41786677e-09,\n",
       "       1.38519526e-09, 1.36812554e-09, 1.33789680e-09, 1.32881528e-09,\n",
       "       1.27074154e-09, 1.25693854e-09, 1.23640654e-09, 1.16409429e-09,\n",
       "       1.15349740e-09, 1.11430881e-09, 1.10041024e-09, 1.09932383e-09,\n",
       "       1.06917145e-09, 1.05021234e-09, 9.69587630e-10, 9.37696968e-10,\n",
       "       8.97106337e-10, 8.70490265e-10, 8.48143955e-10, 8.44962479e-10,\n",
       "       7.91607686e-10, 7.89080601e-10, 7.69658300e-10, 7.61301749e-10,\n",
       "       7.38020024e-10, 7.15508129e-10, 6.92917333e-10, 6.75035597e-10,\n",
       "       6.37135982e-10, 6.32531336e-10, 6.12998526e-10, 5.97881597e-10,\n",
       "       5.63909535e-10, 5.59827770e-10, 5.48671525e-10, 5.36733777e-10,\n",
       "       5.18518597e-10, 5.10936058e-10, 5.05431416e-10, 4.87268504e-10,\n",
       "       4.84801131e-10, 4.54087366e-10, 4.41619248e-10, 4.29543695e-10,\n",
       "       4.09825783e-10, 3.96212639e-10, 3.82975341e-10, 3.67179597e-10,\n",
       "       3.37075285e-10, 3.31011671e-10, 3.21440068e-10, 3.18927127e-10,\n",
       "       3.10447842e-10, 2.95827844e-10, 2.88083616e-10, 2.73022733e-10,\n",
       "       2.70565371e-10, 2.61138931e-10, 2.58300122e-10, 2.48031579e-10,\n",
       "       2.41935735e-10, 2.35845783e-10, 2.31928626e-10, 2.23390857e-10,\n",
       "       2.13590083e-10, 2.08877246e-10, 2.02437670e-10, 1.99083217e-10,\n",
       "       1.96425147e-10, 1.91582450e-10, 1.87831564e-10, 1.80848977e-10,\n",
       "       1.76697381e-10, 1.73145543e-10, 1.62480173e-10, 1.59441688e-10,\n",
       "       1.53445231e-10, 1.50091519e-10, 1.47032986e-10, 1.41892729e-10,\n",
       "       1.38899921e-10, 1.30799530e-10, 1.30345068e-10, 1.22443053e-10,\n",
       "       1.18946085e-10, 1.15569933e-10, 1.12695193e-10, 1.09261527e-10,\n",
       "       1.02238366e-10, 9.77484621e-11, 9.04008553e-11, 8.89957624e-11,\n",
       "       8.53094478e-11, 7.99931214e-11, 7.59264915e-11, 7.17531831e-11,\n",
       "       7.07691677e-11, 6.99991246e-11, 6.95330841e-11, 6.86532830e-11,\n",
       "       6.52667244e-11, 6.45151311e-11, 6.07356835e-11, 5.87673402e-11,\n",
       "       5.76246487e-11, 5.65522019e-11, 5.52938633e-11, 5.19905376e-11,\n",
       "       4.87603953e-11, 4.39548909e-11, 4.32572639e-11, 3.84643946e-11,\n",
       "       3.79063495e-11, 3.73624492e-11, 3.65886301e-11, 3.64802385e-11,\n",
       "       3.60779125e-11, 3.47893812e-11, 3.36072804e-11, 3.24335107e-11,\n",
       "       3.05869186e-11, 2.92083905e-11, 2.19612187e-11, 1.76840011e-11,\n",
       "       1.63531733e-11, 1.42225953e-11, 1.30617469e-11, 1.21200568e-11,\n",
       "       1.10143004e-11, 8.88531466e-12, 7.73987952e-12, 2.39542442e-12,\n",
       "       9.98355365e-33, 9.98355365e-33, 9.98355365e-33, 9.98355365e-33,\n",
       "       9.98355365e-33, 9.98355365e-33, 9.98355365e-33, 9.98355365e-33,\n",
       "       9.98355365e-33, 9.98355365e-33, 9.98355365e-33, 9.98355365e-33,\n",
       "       9.98355365e-33, 9.98355365e-33, 9.98355365e-33, 9.98355365e-33,\n",
       "       9.98355365e-33, 9.98355365e-33, 9.98355365e-33, 9.98355365e-33,\n",
       "       9.98355365e-33, 9.98355365e-33, 9.98355365e-33, 9.98355365e-33,\n",
       "       9.98355365e-33, 9.98355365e-33, 9.98355365e-33, 9.98355365e-33,\n",
       "       9.98355365e-33, 9.98355365e-33, 9.98355365e-33, 9.98355365e-33,\n",
       "       9.98355365e-33, 9.98355365e-33, 9.98355365e-33, 9.98355365e-33,\n",
       "       9.98355365e-33, 9.98355365e-33, 9.98355365e-33, 9.98355365e-33,\n",
       "       9.98355365e-33, 9.98355365e-33, 9.98355365e-33, 9.98355365e-33,\n",
       "       9.98355365e-33, 9.98355365e-33, 9.98355365e-33, 9.98355365e-33,\n",
       "       9.98355365e-33, 9.98355365e-33, 9.98355365e-33, 9.98355365e-33,\n",
       "       9.98355365e-33, 9.98355365e-33, 9.98355365e-33, 9.98355365e-33,\n",
       "       9.98355365e-33, 9.98355365e-33, 9.98355365e-33, 9.98355365e-33,\n",
       "       9.98355365e-33, 9.98355365e-33, 9.98355365e-33, 9.98355365e-33,\n",
       "       9.98355365e-33, 9.98355365e-33, 9.98355365e-33, 9.98355365e-33,\n",
       "       9.98355365e-33, 9.98355365e-33, 9.98355365e-33, 9.98355365e-33,\n",
       "       9.98355365e-33, 9.98355365e-33, 9.98355365e-33, 9.98355365e-33,\n",
       "       9.98355365e-33, 9.98355365e-33, 9.98355365e-33, 9.98355365e-33,\n",
       "       9.98355365e-33, 9.98355365e-33, 9.98355365e-33, 9.98355365e-33,\n",
       "       9.98355365e-33, 9.98355365e-33, 9.98355365e-33, 9.98355365e-33,\n",
       "       9.98355365e-33, 9.98355365e-33, 9.98355365e-33, 9.98355365e-33,\n",
       "       9.98355365e-33, 9.98355365e-33, 9.98355365e-33, 9.98355365e-33,\n",
       "       9.98355365e-33, 9.98355365e-33, 9.98355365e-33, 9.98355365e-33,\n",
       "       9.98355365e-33, 9.98355365e-33, 9.98355365e-33, 9.98355365e-33,\n",
       "       2.03104182e-39])"
      ]
     },
     "execution_count": 172,
     "metadata": {},
     "output_type": "execute_result"
    }
   ],
   "source": [
    "pcaModel.explained_variance_ratio_"
   ]
  },
  {
   "cell_type": "code",
   "execution_count": 173,
   "metadata": {},
   "outputs": [
    {
     "data": {
      "text/plain": [
       "array([ 99.9955823 ,  99.99760261,  99.99843028,  99.99890186,\n",
       "        99.99931285,  99.99946925,  99.99960496,  99.99967338,\n",
       "        99.99971088,  99.99973855,  99.99976052,  99.9997813 ,\n",
       "        99.99979966,  99.99981481,  99.99982798,  99.99983951,\n",
       "        99.99984878,  99.9998575 ,  99.99986511,  99.99987214,\n",
       "        99.99987848,  99.9998843 ,  99.99988996,  99.99989509,\n",
       "        99.99989968,  99.99990404,  99.99990794,  99.99991167,\n",
       "        99.99991507,  99.9999183 ,  99.99992144,  99.99992432,\n",
       "        99.99992714,  99.99992977,  99.99993235,  99.99993478,\n",
       "        99.99993702,  99.99993911,  99.99994104,  99.99994291,\n",
       "        99.99994468,  99.99994637,  99.99994799,  99.99994958,\n",
       "        99.99995112,  99.99995263,  99.999954  ,  99.99995534,\n",
       "        99.99995663,  99.9999579 ,  99.99995912,  99.99996035,\n",
       "        99.99996153,  99.99996266,  99.99996372,  99.99996474,\n",
       "        99.99996571,  99.99996667,  99.99996761,  99.99996853,\n",
       "        99.99996941,  99.99997024,  99.99997106,  99.99997183,\n",
       "        99.9999726 ,  99.99997332,  99.99997402,  99.9999747 ,\n",
       "        99.99997537,  99.99997601,  99.99997664,  99.99997724,\n",
       "        99.99997784,  99.99997841,  99.99997896,  99.99997952,\n",
       "        99.99998006,  99.99998057,  99.99998108,  99.99998158,\n",
       "        99.99998206,  99.99998253,  99.99998299,  99.99998344,\n",
       "        99.99998387,  99.99998429,  99.99998471,  99.99998511,\n",
       "        99.9999855 ,  99.99998588,  99.99998626,  99.99998663,\n",
       "        99.999987  ,  99.99998735,  99.99998768,  99.99998801,\n",
       "        99.99998833,  99.99998864,  99.99998896,  99.99998926,\n",
       "        99.99998956,  99.99998985,  99.99999013,  99.99999041,\n",
       "        99.99999067,  99.99999093,  99.99999117,  99.99999142,\n",
       "        99.99999165,  99.99999188,  99.99999211,  99.99999233,\n",
       "        99.99999254,  99.99999275,  99.99999295,  99.99999315,\n",
       "        99.99999334,  99.99999353,  99.99999371,  99.99999389,\n",
       "        99.99999406,  99.99999422,  99.99999439,  99.99999455,\n",
       "        99.9999947 ,  99.99999485,  99.99999499,  99.99999513,\n",
       "        99.99999527,  99.99999541,  99.99999554,  99.99999567,\n",
       "        99.9999958 ,  99.99999593,  99.99999605,  99.99999617,\n",
       "        99.99999628,  99.99999639,  99.9999965 ,  99.99999661,\n",
       "        99.99999672,  99.99999683,  99.99999692,  99.99999702,\n",
       "        99.99999711,  99.99999719,  99.99999728,  99.99999736,\n",
       "        99.99999744,  99.99999752,  99.9999976 ,  99.99999767,\n",
       "        99.99999775,  99.99999782,  99.99999789,  99.99999796,\n",
       "        99.99999802,  99.99999808,  99.99999814,  99.9999982 ,\n",
       "        99.99999826,  99.99999832,  99.99999837,  99.99999843,\n",
       "        99.99999848,  99.99999853,  99.99999858,  99.99999863,\n",
       "        99.99999868,  99.99999872,  99.99999877,  99.99999881,\n",
       "        99.99999885,  99.99999889,  99.99999893,  99.99999896,\n",
       "        99.999999  ,  99.99999903,  99.99999906,  99.9999991 ,\n",
       "        99.99999913,  99.99999916,  99.99999918,  99.99999921,\n",
       "        99.99999924,  99.99999926,  99.99999929,  99.99999932,\n",
       "        99.99999934,  99.99999936,  99.99999939,  99.99999941,\n",
       "        99.99999943,  99.99999945,  99.99999947,  99.99999949,\n",
       "        99.99999951,  99.99999953,  99.99999955,  99.99999957,\n",
       "        99.99999958,  99.9999996 ,  99.99999962,  99.99999963,\n",
       "        99.99999965,  99.99999966,  99.99999968,  99.99999969,\n",
       "        99.99999971,  99.99999972,  99.99999973,  99.99999975,\n",
       "        99.99999976,  99.99999977,  99.99999978,  99.99999979,\n",
       "        99.9999998 ,  99.99999981,  99.99999982,  99.99999983,\n",
       "        99.99999984,  99.99999985,  99.99999985,  99.99999986,\n",
       "        99.99999987,  99.99999987,  99.99999988,  99.99999989,\n",
       "        99.99999989,  99.9999999 ,  99.99999991,  99.99999991,\n",
       "        99.99999992,  99.99999992,  99.99999993,  99.99999994,\n",
       "        99.99999994,  99.99999994,  99.99999995,  99.99999995,\n",
       "        99.99999996,  99.99999996,  99.99999996,  99.99999997,\n",
       "        99.99999997,  99.99999997,  99.99999998,  99.99999998,\n",
       "        99.99999998,  99.99999999,  99.99999999,  99.99999999,\n",
       "        99.99999999,  99.99999999, 100.        , 100.        ,\n",
       "       100.        , 100.        , 100.        , 100.        ,\n",
       "       100.        , 100.        , 100.        , 100.        ,\n",
       "       100.        , 100.        , 100.        , 100.        ,\n",
       "       100.        , 100.        , 100.        , 100.        ,\n",
       "       100.        , 100.        , 100.        , 100.        ,\n",
       "       100.        , 100.        , 100.        , 100.        ,\n",
       "       100.        , 100.        , 100.        , 100.        ,\n",
       "       100.        , 100.        , 100.        , 100.        ,\n",
       "       100.        , 100.        , 100.        , 100.        ,\n",
       "       100.        , 100.        , 100.        , 100.        ,\n",
       "       100.        , 100.        , 100.        , 100.        ,\n",
       "       100.        , 100.        , 100.        , 100.        ,\n",
       "       100.        , 100.        , 100.        , 100.        ,\n",
       "       100.        , 100.        , 100.        , 100.        ,\n",
       "       100.        , 100.        , 100.        , 100.        ,\n",
       "       100.        , 100.        , 100.        , 100.        ,\n",
       "       100.        , 100.        , 100.        , 100.        ,\n",
       "       100.        , 100.        , 100.        , 100.        ,\n",
       "       100.        , 100.        , 100.        , 100.        ,\n",
       "       100.        , 100.        , 100.        , 100.        ,\n",
       "       100.        , 100.        , 100.        , 100.        ,\n",
       "       100.        , 100.        , 100.        , 100.        ,\n",
       "       100.        , 100.        , 100.        , 100.        ,\n",
       "       100.        , 100.        , 100.        , 100.        ,\n",
       "       100.        , 100.        , 100.        , 100.        ,\n",
       "       100.        , 100.        , 100.        , 100.        ,\n",
       "       100.        , 100.        , 100.        , 100.        ,\n",
       "       100.        ])"
      ]
     },
     "execution_count": 173,
     "metadata": {},
     "output_type": "execute_result"
    }
   ],
   "source": [
    "pcaModel.explained_variance_ratio_.cumsum()*100"
   ]
  },
  {
   "cell_type": "code",
   "execution_count": 174,
   "metadata": {},
   "outputs": [
    {
     "data": {
      "text/plain": [
       "array([[ 9.99998692e-01, -5.05241452e-05,  6.52198546e-05, ...,\n",
       "        -1.56204891e-07, -1.37374861e-07,  4.49791750e-07],\n",
       "       [ 9.78264751e-05, -4.32766924e-02,  3.61512507e-02, ...,\n",
       "        -8.08001994e-05, -6.68612003e-06, -1.80232582e-05],\n",
       "       [-3.32068350e-05,  2.60907543e-02, -1.38988584e-02, ...,\n",
       "         2.09750464e-04,  2.81531175e-05,  2.32822698e-04],\n",
       "       ...,\n",
       "       [ 0.00000000e+00,  8.80631398e-18,  5.10282951e-18, ...,\n",
       "        -2.14129929e-17,  1.05140506e-16, -4.47075916e-02],\n",
       "       [ 0.00000000e+00,  1.63099425e-17,  5.28279038e-18, ...,\n",
       "         4.78133158e-17,  8.70885395e-17,  2.30979668e-02],\n",
       "       [ 0.00000000e+00, -8.59230222e-16, -3.23268892e-16, ...,\n",
       "        -7.24359808e-14, -8.96973468e-14, -2.24584169e-03]])"
      ]
     },
     "execution_count": 174,
     "metadata": {},
     "output_type": "execute_result"
    }
   ],
   "source": [
    "pcaModel.components_"
   ]
  },
  {
   "cell_type": "code",
   "execution_count": 175,
   "metadata": {},
   "outputs": [],
   "source": [
    "pcaModel=PCA(n_components=120)"
   ]
  },
  {
   "cell_type": "code",
   "execution_count": 176,
   "metadata": {},
   "outputs": [],
   "source": [
    "x.drop(columns=['ID'],inplace=True)"
   ]
  },
  {
   "cell_type": "code",
   "execution_count": 177,
   "metadata": {},
   "outputs": [
    {
     "data": {
      "text/plain": [
       "PCA(copy=True, iterated_power='auto', n_components=120, random_state=None,\n",
       "    svd_solver='auto', tol=0.0, whiten=False)"
      ]
     },
     "execution_count": 177,
     "metadata": {},
     "output_type": "execute_result"
    }
   ],
   "source": [
    "pcaModel.fit(x)"
   ]
  },
  {
   "cell_type": "code",
   "execution_count": 178,
   "metadata": {},
   "outputs": [],
   "source": [
    "x_pca=pd.DataFrame(pcaModel.transform(x))"
   ]
  },
  {
   "cell_type": "code",
   "execution_count": 179,
   "metadata": {},
   "outputs": [
    {
     "data": {
      "text/plain": [
       "array([43.1998066 , 60.8938594 , 75.2247611 , 85.30276091, 88.6459392 ,\n",
       "       91.5468846 , 93.01091725, 93.8126853 , 94.40411854, 94.87389142,\n",
       "       95.31840364, 95.71152368, 96.03608435, 96.31761122, 96.56431308,\n",
       "       96.76272104, 96.94902682, 97.11260937, 97.26280796, 97.39831897,\n",
       "       97.52304452, 97.6441231 , 97.75370923, 97.8520118 , 97.94565995,\n",
       "       98.02914534, 98.10879036, 98.1815388 , 98.25091216, 98.31797932,\n",
       "       98.37959819, 98.43976977, 98.49614063, 98.55128592, 98.60349218,\n",
       "       98.65140497, 98.69605446, 98.7373834 , 98.77739481, 98.81512074,\n",
       "       98.8515064 , 98.88617091, 98.92018397, 98.95319717, 98.9858438 ,\n",
       "       99.01508067, 99.04383862, 99.07154449, 99.09859107, 99.12485681,\n",
       "       99.15098463, 99.17621683, 99.20038738, 99.22308156, 99.2449524 ,\n",
       "       99.26581685, 99.28634895, 99.30634408, 99.32596393, 99.34486869,\n",
       "       99.36261243, 99.38016081, 99.39674994, 99.41328222, 99.42861605,\n",
       "       99.44359071, 99.45807465, 99.47246801, 99.48605168, 99.49950291,\n",
       "       99.51241069, 99.52510701, 99.5373981 , 99.5492898 , 99.56115216,\n",
       "       99.57266055, 99.58388835, 99.5947044 , 99.60541235, 99.61580393,\n",
       "       99.62602965, 99.63607941, 99.64568641, 99.65497709, 99.66396403,\n",
       "       99.67285526, 99.68136353, 99.68980168, 99.69796648, 99.70605681,\n",
       "       99.71401714, 99.72195431, 99.72943547, 99.73654617, 99.74356683,\n",
       "       99.75042681, 99.75714506, 99.76379707, 99.77036864, 99.77675544,\n",
       "       99.78287647, 99.788864  , 99.79478428, 99.80045734, 99.80591439,\n",
       "       99.81116742, 99.81636851, 99.82138628, 99.8263262 , 99.83116319,\n",
       "       99.8358164 , 99.84033952, 99.84480297, 99.84911089, 99.85331544,\n",
       "       99.8573644 , 99.86128838, 99.8650682 , 99.86870351, 99.8722582 ])"
      ]
     },
     "execution_count": 179,
     "metadata": {},
     "output_type": "execute_result"
    }
   ],
   "source": [
    "pcaModel.explained_variance_ratio_.cumsum()*100"
   ]
  },
  {
   "cell_type": "code",
   "execution_count": 180,
   "metadata": {},
   "outputs": [
    {
     "data": {
      "text/plain": [
       "array([[-4.28752202e-02,  3.57029823e-02,  9.92960039e-01, ...,\n",
       "        -7.98656974e-05, -6.09968323e-06, -2.09839271e-05],\n",
       "       [ 2.48295675e-02, -1.28040733e-02,  7.81224831e-02, ...,\n",
       "         2.07694272e-04,  2.81316388e-05,  2.39828219e-04],\n",
       "       [ 3.77244314e-02, -2.87052731e-02, -6.61920907e-03, ...,\n",
       "         5.10397785e-05, -1.92373784e-05, -1.87643318e-04],\n",
       "       ...,\n",
       "       [-1.91857852e-03, -3.89556066e-03,  2.91685847e-04, ...,\n",
       "        -1.45664411e-02,  4.88350770e-03,  4.16422362e-03],\n",
       "       [-1.92905203e-03, -6.48459987e-04, -7.03704272e-04, ...,\n",
       "         1.52879894e-02,  2.30246968e-03,  4.75004644e-02],\n",
       "       [-1.87781535e-04,  3.02786082e-03, -5.64005771e-04, ...,\n",
       "         1.26929836e-02,  1.74892258e-02, -2.17123251e-02]])"
      ]
     },
     "execution_count": 180,
     "metadata": {},
     "output_type": "execute_result"
    }
   ],
   "source": [
    "pcaModel.components_"
   ]
  },
  {
   "cell_type": "code",
   "execution_count": 181,
   "metadata": {},
   "outputs": [
    {
     "data": {
      "text/html": [
       "<div>\n",
       "<style scoped>\n",
       "    .dataframe tbody tr th:only-of-type {\n",
       "        vertical-align: middle;\n",
       "    }\n",
       "\n",
       "    .dataframe tbody tr th {\n",
       "        vertical-align: top;\n",
       "    }\n",
       "\n",
       "    .dataframe thead th {\n",
       "        text-align: right;\n",
       "    }\n",
       "</style>\n",
       "<table border=\"1\" class=\"dataframe\">\n",
       "  <thead>\n",
       "    <tr style=\"text-align: right;\">\n",
       "      <th></th>\n",
       "      <th>0</th>\n",
       "      <th>1</th>\n",
       "      <th>2</th>\n",
       "      <th>3</th>\n",
       "      <th>4</th>\n",
       "      <th>5</th>\n",
       "      <th>6</th>\n",
       "      <th>7</th>\n",
       "      <th>8</th>\n",
       "      <th>9</th>\n",
       "      <th>...</th>\n",
       "      <th>110</th>\n",
       "      <th>111</th>\n",
       "      <th>112</th>\n",
       "      <th>113</th>\n",
       "      <th>114</th>\n",
       "      <th>115</th>\n",
       "      <th>116</th>\n",
       "      <th>117</th>\n",
       "      <th>118</th>\n",
       "      <th>119</th>\n",
       "    </tr>\n",
       "  </thead>\n",
       "  <tbody>\n",
       "    <tr>\n",
       "      <th>0</th>\n",
       "      <td>0.360851</td>\n",
       "      <td>1.626849</td>\n",
       "      <td>10.934988</td>\n",
       "      <td>-8.098682</td>\n",
       "      <td>0.692279</td>\n",
       "      <td>-3.559976</td>\n",
       "      <td>4.046201</td>\n",
       "      <td>-2.356005</td>\n",
       "      <td>0.373682</td>\n",
       "      <td>0.983612</td>\n",
       "      <td>...</td>\n",
       "      <td>-0.022015</td>\n",
       "      <td>0.371419</td>\n",
       "      <td>-0.386977</td>\n",
       "      <td>-0.204411</td>\n",
       "      <td>-0.457554</td>\n",
       "      <td>0.670916</td>\n",
       "      <td>-0.150586</td>\n",
       "      <td>0.034226</td>\n",
       "      <td>-0.117401</td>\n",
       "      <td>-0.393668</td>\n",
       "    </tr>\n",
       "    <tr>\n",
       "      <th>1</th>\n",
       "      <td>1.862021</td>\n",
       "      <td>1.893737</td>\n",
       "      <td>11.162599</td>\n",
       "      <td>-6.713501</td>\n",
       "      <td>-6.213841</td>\n",
       "      <td>-0.031852</td>\n",
       "      <td>-2.025817</td>\n",
       "      <td>-0.758965</td>\n",
       "      <td>1.681262</td>\n",
       "      <td>-1.063300</td>\n",
       "      <td>...</td>\n",
       "      <td>-0.074963</td>\n",
       "      <td>0.132830</td>\n",
       "      <td>0.140855</td>\n",
       "      <td>0.408935</td>\n",
       "      <td>0.088409</td>\n",
       "      <td>-0.021094</td>\n",
       "      <td>0.034972</td>\n",
       "      <td>0.147224</td>\n",
       "      <td>-0.135702</td>\n",
       "      <td>-0.012477</td>\n",
       "    </tr>\n",
       "    <tr>\n",
       "      <th>2</th>\n",
       "      <td>16.011201</td>\n",
       "      <td>12.165398</td>\n",
       "      <td>11.671780</td>\n",
       "      <td>-1.796760</td>\n",
       "      <td>-4.314091</td>\n",
       "      <td>1.720922</td>\n",
       "      <td>-0.918421</td>\n",
       "      <td>-0.958553</td>\n",
       "      <td>2.537843</td>\n",
       "      <td>0.032485</td>\n",
       "      <td>...</td>\n",
       "      <td>0.600320</td>\n",
       "      <td>-0.310250</td>\n",
       "      <td>-0.207281</td>\n",
       "      <td>0.003302</td>\n",
       "      <td>-0.054448</td>\n",
       "      <td>-0.138068</td>\n",
       "      <td>-0.564512</td>\n",
       "      <td>-0.013525</td>\n",
       "      <td>-0.109230</td>\n",
       "      <td>-0.001574</td>\n",
       "    </tr>\n",
       "    <tr>\n",
       "      <th>3</th>\n",
       "      <td>17.466888</td>\n",
       "      <td>-6.729395</td>\n",
       "      <td>10.774094</td>\n",
       "      <td>-1.160809</td>\n",
       "      <td>-5.618582</td>\n",
       "      <td>-0.081350</td>\n",
       "      <td>-3.784070</td>\n",
       "      <td>-1.414364</td>\n",
       "      <td>1.474586</td>\n",
       "      <td>-0.241837</td>\n",
       "      <td>...</td>\n",
       "      <td>0.090588</td>\n",
       "      <td>0.154601</td>\n",
       "      <td>-0.128049</td>\n",
       "      <td>-0.026714</td>\n",
       "      <td>-0.021244</td>\n",
       "      <td>-0.121966</td>\n",
       "      <td>-0.485885</td>\n",
       "      <td>-0.274009</td>\n",
       "      <td>0.068767</td>\n",
       "      <td>0.593822</td>\n",
       "    </tr>\n",
       "    <tr>\n",
       "      <th>4</th>\n",
       "      <td>16.946298</td>\n",
       "      <td>2.010264</td>\n",
       "      <td>10.851935</td>\n",
       "      <td>-2.900339</td>\n",
       "      <td>5.876233</td>\n",
       "      <td>0.723333</td>\n",
       "      <td>-1.846557</td>\n",
       "      <td>-2.149953</td>\n",
       "      <td>-1.201470</td>\n",
       "      <td>-0.051498</td>\n",
       "      <td>...</td>\n",
       "      <td>-0.139598</td>\n",
       "      <td>0.119864</td>\n",
       "      <td>0.056886</td>\n",
       "      <td>-0.044946</td>\n",
       "      <td>-0.224351</td>\n",
       "      <td>-0.154481</td>\n",
       "      <td>-0.072079</td>\n",
       "      <td>-0.055333</td>\n",
       "      <td>-0.013399</td>\n",
       "      <td>-0.064597</td>\n",
       "    </tr>\n",
       "  </tbody>\n",
       "</table>\n",
       "<p>5 rows × 120 columns</p>\n",
       "</div>"
      ],
      "text/plain": [
       "         0          1          2         3         4         5         6    \\\n",
       "0   0.360851   1.626849  10.934988 -8.098682  0.692279 -3.559976  4.046201   \n",
       "1   1.862021   1.893737  11.162599 -6.713501 -6.213841 -0.031852 -2.025817   \n",
       "2  16.011201  12.165398  11.671780 -1.796760 -4.314091  1.720922 -0.918421   \n",
       "3  17.466888  -6.729395  10.774094 -1.160809 -5.618582 -0.081350 -3.784070   \n",
       "4  16.946298   2.010264  10.851935 -2.900339  5.876233  0.723333 -1.846557   \n",
       "\n",
       "        7         8         9    ...       110       111       112       113  \\\n",
       "0 -2.356005  0.373682  0.983612  ... -0.022015  0.371419 -0.386977 -0.204411   \n",
       "1 -0.758965  1.681262 -1.063300  ... -0.074963  0.132830  0.140855  0.408935   \n",
       "2 -0.958553  2.537843  0.032485  ...  0.600320 -0.310250 -0.207281  0.003302   \n",
       "3 -1.414364  1.474586 -0.241837  ...  0.090588  0.154601 -0.128049 -0.026714   \n",
       "4 -2.149953 -1.201470 -0.051498  ... -0.139598  0.119864  0.056886 -0.044946   \n",
       "\n",
       "        114       115       116       117       118       119  \n",
       "0 -0.457554  0.670916 -0.150586  0.034226 -0.117401 -0.393668  \n",
       "1  0.088409 -0.021094  0.034972  0.147224 -0.135702 -0.012477  \n",
       "2 -0.054448 -0.138068 -0.564512 -0.013525 -0.109230 -0.001574  \n",
       "3 -0.021244 -0.121966 -0.485885 -0.274009  0.068767  0.593822  \n",
       "4 -0.224351 -0.154481 -0.072079 -0.055333 -0.013399 -0.064597  \n",
       "\n",
       "[5 rows x 120 columns]"
      ]
     },
     "execution_count": 181,
     "metadata": {},
     "output_type": "execute_result"
    }
   ],
   "source": [
    "x_pca.head()"
   ]
  },
  {
   "cell_type": "code",
   "execution_count": 182,
   "metadata": {},
   "outputs": [],
   "source": [
    "from sklearn.model_selection import train_test_split"
   ]
  },
  {
   "cell_type": "code",
   "execution_count": 183,
   "metadata": {},
   "outputs": [],
   "source": [
    "x_train,x_test,y_train,y_test=train_test_split(x_pca,y,random_state=20,train_size=0.70)"
   ]
  },
  {
   "cell_type": "code",
   "execution_count": 184,
   "metadata": {},
   "outputs": [],
   "source": [
    "from xgboost import XGBRegressor,plot_importance"
   ]
  },
  {
   "cell_type": "code",
   "execution_count": 185,
   "metadata": {},
   "outputs": [],
   "source": [
    "xgbModel=XGBRegressor(max_depth=3, min_child_weight=4, reg_lambda=1000, gamma = 100)"
   ]
  },
  {
   "cell_type": "code",
   "execution_count": 186,
   "metadata": {},
   "outputs": [
    {
     "data": {
      "text/plain": [
       "XGBRegressor(base_score=0.5, booster=None, colsample_bylevel=1,\n",
       "             colsample_bynode=1, colsample_bytree=1, gamma=100, gpu_id=-1,\n",
       "             importance_type='gain', interaction_constraints=None,\n",
       "             learning_rate=0.300000012, max_delta_step=0, max_depth=3,\n",
       "             min_child_weight=4, missing=nan, monotone_constraints=None,\n",
       "             n_estimators=100, n_jobs=0, num_parallel_tree=1,\n",
       "             objective='reg:squarederror', random_state=0, reg_alpha=0,\n",
       "             reg_lambda=1000, scale_pos_weight=1, subsample=1, tree_method=None,\n",
       "             validate_parameters=False, verbosity=None)"
      ]
     },
     "execution_count": 186,
     "metadata": {},
     "output_type": "execute_result"
    }
   ],
   "source": [
    "xgbModel.fit(x_train,y_train)"
   ]
  },
  {
   "cell_type": "code",
   "execution_count": 187,
   "metadata": {},
   "outputs": [
    {
     "data": {
      "text/plain": [
       "0.6455982073163805"
      ]
     },
     "execution_count": 187,
     "metadata": {},
     "output_type": "execute_result"
    }
   ],
   "source": [
    "xgbModel.score(x_train,y_train)"
   ]
  },
  {
   "cell_type": "code",
   "execution_count": 188,
   "metadata": {},
   "outputs": [
    {
     "data": {
      "text/plain": [
       "0.5665713951556721"
      ]
     },
     "execution_count": 188,
     "metadata": {},
     "output_type": "execute_result"
    }
   ],
   "source": [
    "xgbModel.score(x_test,y_test)"
   ]
  },
  {
   "cell_type": "code",
   "execution_count": 192,
   "metadata": {},
   "outputs": [
    {
     "data": {
      "image/png": "[encoded data removed]",
      "text/plain": [
       "<Figure size 432x288 with 1 Axes>"
      ]
     },
     "metadata": {
      "needs_background": "light"
     },
     "output_type": "display_data"
    }
   ],
   "source": [
    "#Above model is overfitting, trying PCA again\n",
    "#Scree plot for optimal number of components\n",
    "\n",
    "plt.plot(pcaModel.explained_variance_ratio_)\n",
    "plt.xlabel('number of components')\n",
    "plt.ylabel('cumulative explained variance')\n",
    "plt.show()"
   ]
  },
  {
   "cell_type": "code",
   "execution_count": 193,
   "metadata": {},
   "outputs": [],
   "source": [
    "pcaModel=PCA(n_components=7)\n",
    "pcaModel.fit(x.iloc[:,0:9])\n",
    "x_pca_c=pd.DataFrame(pcaModel.transform(x.iloc[:,0:9]),columns=['C1','C2','C3','C4','C5','C6','C7'])"
   ]
  },
  {
   "cell_type": "code",
   "execution_count": 194,
   "metadata": {},
   "outputs": [
    {
     "data": {
      "text/html": [
       "<div>\n",
       "<style scoped>\n",
       "    .dataframe tbody tr th:only-of-type {\n",
       "        vertical-align: middle;\n",
       "    }\n",
       "\n",
       "    .dataframe tbody tr th {\n",
       "        vertical-align: top;\n",
       "    }\n",
       "\n",
       "    .dataframe thead th {\n",
       "        text-align: right;\n",
       "    }\n",
       "</style>\n",
       "<table border=\"1\" class=\"dataframe\">\n",
       "  <thead>\n",
       "    <tr style=\"text-align: right;\">\n",
       "      <th></th>\n",
       "      <th>X0</th>\n",
       "      <th>X1</th>\n",
       "      <th>X2</th>\n",
       "      <th>X3</th>\n",
       "      <th>X4</th>\n",
       "      <th>X5</th>\n",
       "      <th>X6</th>\n",
       "      <th>X8</th>\n",
       "      <th>X10</th>\n",
       "    </tr>\n",
       "  </thead>\n",
       "  <tbody>\n",
       "    <tr>\n",
       "      <th>0</th>\n",
       "      <td>-0.042153</td>\n",
       "      <td>0.035592</td>\n",
       "      <td>0.995156</td>\n",
       "      <td>-0.014694</td>\n",
       "      <td>0.000004</td>\n",
       "      <td>-0.012677</td>\n",
       "      <td>0.018473</td>\n",
       "      <td>-0.076831</td>\n",
       "      <td>0.000411</td>\n",
       "    </tr>\n",
       "    <tr>\n",
       "      <th>1</th>\n",
       "      <td>0.024341</td>\n",
       "      <td>-0.012227</td>\n",
       "      <td>0.078629</td>\n",
       "      <td>-0.004005</td>\n",
       "      <td>0.000014</td>\n",
       "      <td>0.048981</td>\n",
       "      <td>0.012991</td>\n",
       "      <td>0.995234</td>\n",
       "      <td>0.000351</td>\n",
       "    </tr>\n",
       "    <tr>\n",
       "      <th>2</th>\n",
       "      <td>0.035595</td>\n",
       "      <td>-0.028134</td>\n",
       "      <td>-0.006720</td>\n",
       "      <td>-0.001503</td>\n",
       "      <td>0.000195</td>\n",
       "      <td>-0.997705</td>\n",
       "      <td>0.012257</td>\n",
       "      <td>0.048251</td>\n",
       "      <td>0.000197</td>\n",
       "    </tr>\n",
       "    <tr>\n",
       "      <th>3</th>\n",
       "      <td>0.987627</td>\n",
       "      <td>-0.137127</td>\n",
       "      <td>0.044013</td>\n",
       "      <td>-0.035763</td>\n",
       "      <td>-0.000073</td>\n",
       "      <td>0.037499</td>\n",
       "      <td>0.013118</td>\n",
       "      <td>-0.031478</td>\n",
       "      <td>0.002060</td>\n",
       "    </tr>\n",
       "    <tr>\n",
       "      <th>4</th>\n",
       "      <td>0.095527</td>\n",
       "      <td>0.579580</td>\n",
       "      <td>0.000486</td>\n",
       "      <td>0.083108</td>\n",
       "      <td>0.000052</td>\n",
       "      <td>-0.022142</td>\n",
       "      <td>-0.804529</td>\n",
       "      <td>0.016673</td>\n",
       "      <td>-0.004392</td>\n",
       "    </tr>\n",
       "    <tr>\n",
       "      <th>5</th>\n",
       "      <td>-0.106900</td>\n",
       "      <td>-0.794959</td>\n",
       "      <td>0.033852</td>\n",
       "      <td>-0.065497</td>\n",
       "      <td>0.000253</td>\n",
       "      <td>0.011054</td>\n",
       "      <td>-0.592491</td>\n",
       "      <td>-0.002900</td>\n",
       "      <td>0.000469</td>\n",
       "    </tr>\n",
       "    <tr>\n",
       "      <th>6</th>\n",
       "      <td>0.020035</td>\n",
       "      <td>-0.105369</td>\n",
       "      <td>0.018796</td>\n",
       "      <td>0.993620</td>\n",
       "      <td>-0.000288</td>\n",
       "      <td>0.002431</td>\n",
       "      <td>0.029043</td>\n",
       "      <td>0.000230</td>\n",
       "      <td>0.003537</td>\n",
       "    </tr>\n",
       "  </tbody>\n",
       "</table>\n",
       "</div>"
      ],
      "text/plain": [
       "         X0        X1        X2        X3        X4        X5        X6  \\\n",
       "0 -0.042153  0.035592  0.995156 -0.014694  0.000004 -0.012677  0.018473   \n",
       "1  0.024341 -0.012227  0.078629 -0.004005  0.000014  0.048981  0.012991   \n",
       "2  0.035595 -0.028134 -0.006720 -0.001503  0.000195 -0.997705  0.012257   \n",
       "3  0.987627 -0.137127  0.044013 -0.035763 -0.000073  0.037499  0.013118   \n",
       "4  0.095527  0.579580  0.000486  0.083108  0.000052 -0.022142 -0.804529   \n",
       "5 -0.106900 -0.794959  0.033852 -0.065497  0.000253  0.011054 -0.592491   \n",
       "6  0.020035 -0.105369  0.018796  0.993620 -0.000288  0.002431  0.029043   \n",
       "\n",
       "         X8       X10  \n",
       "0 -0.076831  0.000411  \n",
       "1  0.995234  0.000351  \n",
       "2  0.048251  0.000197  \n",
       "3 -0.031478  0.002060  \n",
       "4  0.016673 -0.004392  \n",
       "5 -0.002900  0.000469  \n",
       "6  0.000230  0.003537  "
      ]
     },
     "execution_count": 194,
     "metadata": {},
     "output_type": "execute_result"
    }
   ],
   "source": [
    "pd.DataFrame(pcaModel.components_,columns=(x.iloc[:,0:9]).columns)"
   ]
  },
  {
   "cell_type": "code",
   "execution_count": 195,
   "metadata": {},
   "outputs": [
    {
     "data": {
      "text/plain": [
       "array([0.46841257, 0.660989  , 0.81698928, 0.92340284, 0.95783917,\n",
       "       0.98855634, 0.99994622])"
      ]
     },
     "execution_count": 195,
     "metadata": {},
     "output_type": "execute_result"
    }
   ],
   "source": [
    "pcaModel.explained_variance_ratio_.cumsum()"
   ]
  },
  {
   "cell_type": "code",
   "execution_count": 197,
   "metadata": {},
   "outputs": [],
   "source": [
    "x_pca_c=pd.concat([x_pca_c,train_df.ID],axis=1)"
   ]
  },
  {
   "cell_type": "code",
   "execution_count": 198,
   "metadata": {},
   "outputs": [],
   "source": [
    "x_non_pca=pd.concat([x.iloc[:,9:],train_df.ID],axis=1)"
   ]
  },
  {
   "cell_type": "code",
   "execution_count": 199,
   "metadata": {},
   "outputs": [],
   "source": [
    "x_pca=pd.merge(left=x_pca_c,right=x_non_pca,on='ID',how='inner')"
   ]
  },
  {
   "cell_type": "code",
   "execution_count": 200,
   "metadata": {},
   "outputs": [],
   "source": [
    "x_pca.drop(columns=['ID'],inplace=True)"
   ]
  },
  {
   "cell_type": "code",
   "execution_count": 201,
   "metadata": {},
   "outputs": [
    {
     "data": {
      "text/html": [
       "<div>\n",
       "<style scoped>\n",
       "    .dataframe tbody tr th:only-of-type {\n",
       "        vertical-align: middle;\n",
       "    }\n",
       "\n",
       "    .dataframe tbody tr th {\n",
       "        vertical-align: top;\n",
       "    }\n",
       "\n",
       "    .dataframe thead th {\n",
       "        text-align: right;\n",
       "    }\n",
       "</style>\n",
       "<table border=\"1\" class=\"dataframe\">\n",
       "  <thead>\n",
       "    <tr style=\"text-align: right;\">\n",
       "      <th></th>\n",
       "      <th>C1</th>\n",
       "      <th>C2</th>\n",
       "      <th>C3</th>\n",
       "      <th>C4</th>\n",
       "      <th>C5</th>\n",
       "      <th>C6</th>\n",
       "      <th>C7</th>\n",
       "      <th>X12</th>\n",
       "      <th>X13</th>\n",
       "      <th>X14</th>\n",
       "      <th>...</th>\n",
       "      <th>X375</th>\n",
       "      <th>X376</th>\n",
       "      <th>X377</th>\n",
       "      <th>X378</th>\n",
       "      <th>X379</th>\n",
       "      <th>X380</th>\n",
       "      <th>X382</th>\n",
       "      <th>X383</th>\n",
       "      <th>X384</th>\n",
       "      <th>X385</th>\n",
       "    </tr>\n",
       "  </thead>\n",
       "  <tbody>\n",
       "    <tr>\n",
       "      <th>0</th>\n",
       "      <td>0.198954</td>\n",
       "      <td>1.616359</td>\n",
       "      <td>10.923829</td>\n",
       "      <td>-8.113448</td>\n",
       "      <td>0.214179</td>\n",
       "      <td>-4.076486</td>\n",
       "      <td>-3.490563</td>\n",
       "      <td>0</td>\n",
       "      <td>1</td>\n",
       "      <td>0</td>\n",
       "      <td>...</td>\n",
       "      <td>0</td>\n",
       "      <td>0</td>\n",
       "      <td>1</td>\n",
       "      <td>0</td>\n",
       "      <td>0</td>\n",
       "      <td>0</td>\n",
       "      <td>0</td>\n",
       "      <td>0</td>\n",
       "      <td>0</td>\n",
       "      <td>0</td>\n",
       "    </tr>\n",
       "    <tr>\n",
       "      <th>1</th>\n",
       "      <td>1.847106</td>\n",
       "      <td>1.893616</td>\n",
       "      <td>11.182094</td>\n",
       "      <td>-6.908097</td>\n",
       "      <td>-6.277695</td>\n",
       "      <td>1.698880</td>\n",
       "      <td>1.527916</td>\n",
       "      <td>0</td>\n",
       "      <td>0</td>\n",
       "      <td>0</td>\n",
       "      <td>...</td>\n",
       "      <td>1</td>\n",
       "      <td>0</td>\n",
       "      <td>0</td>\n",
       "      <td>0</td>\n",
       "      <td>0</td>\n",
       "      <td>0</td>\n",
       "      <td>0</td>\n",
       "      <td>0</td>\n",
       "      <td>0</td>\n",
       "      <td>0</td>\n",
       "    </tr>\n",
       "    <tr>\n",
       "      <th>2</th>\n",
       "      <td>15.864642</td>\n",
       "      <td>12.133895</td>\n",
       "      <td>11.672028</td>\n",
       "      <td>-1.547777</td>\n",
       "      <td>-4.199876</td>\n",
       "      <td>2.962037</td>\n",
       "      <td>-0.133222</td>\n",
       "      <td>0</td>\n",
       "      <td>0</td>\n",
       "      <td>0</td>\n",
       "      <td>...</td>\n",
       "      <td>0</td>\n",
       "      <td>0</td>\n",
       "      <td>0</td>\n",
       "      <td>0</td>\n",
       "      <td>0</td>\n",
       "      <td>0</td>\n",
       "      <td>1</td>\n",
       "      <td>0</td>\n",
       "      <td>0</td>\n",
       "      <td>0</td>\n",
       "    </tr>\n",
       "    <tr>\n",
       "      <th>3</th>\n",
       "      <td>17.317297</td>\n",
       "      <td>-6.761593</td>\n",
       "      <td>10.775261</td>\n",
       "      <td>-1.030741</td>\n",
       "      <td>-5.876388</td>\n",
       "      <td>1.635671</td>\n",
       "      <td>2.901362</td>\n",
       "      <td>0</td>\n",
       "      <td>0</td>\n",
       "      <td>0</td>\n",
       "      <td>...</td>\n",
       "      <td>0</td>\n",
       "      <td>0</td>\n",
       "      <td>0</td>\n",
       "      <td>0</td>\n",
       "      <td>0</td>\n",
       "      <td>0</td>\n",
       "      <td>0</td>\n",
       "      <td>0</td>\n",
       "      <td>0</td>\n",
       "      <td>0</td>\n",
       "    </tr>\n",
       "    <tr>\n",
       "      <th>4</th>\n",
       "      <td>16.798361</td>\n",
       "      <td>1.981552</td>\n",
       "      <td>10.858260</td>\n",
       "      <td>-2.653132</td>\n",
       "      <td>5.926119</td>\n",
       "      <td>-0.805132</td>\n",
       "      <td>1.722765</td>\n",
       "      <td>0</td>\n",
       "      <td>0</td>\n",
       "      <td>0</td>\n",
       "      <td>...</td>\n",
       "      <td>0</td>\n",
       "      <td>0</td>\n",
       "      <td>0</td>\n",
       "      <td>0</td>\n",
       "      <td>0</td>\n",
       "      <td>0</td>\n",
       "      <td>0</td>\n",
       "      <td>0</td>\n",
       "      <td>0</td>\n",
       "      <td>0</td>\n",
       "    </tr>\n",
       "    <tr>\n",
       "      <th>...</th>\n",
       "      <td>...</td>\n",
       "      <td>...</td>\n",
       "      <td>...</td>\n",
       "      <td>...</td>\n",
       "      <td>...</td>\n",
       "      <td>...</td>\n",
       "      <td>...</td>\n",
       "      <td>...</td>\n",
       "      <td>...</td>\n",
       "      <td>...</td>\n",
       "      <td>...</td>\n",
       "      <td>...</td>\n",
       "      <td>...</td>\n",
       "      <td>...</td>\n",
       "      <td>...</td>\n",
       "      <td>...</td>\n",
       "      <td>...</td>\n",
       "      <td>...</td>\n",
       "      <td>...</td>\n",
       "      <td>...</td>\n",
       "      <td>...</td>\n",
       "    </tr>\n",
       "    <tr>\n",
       "      <th>4203</th>\n",
       "      <td>22.916251</td>\n",
       "      <td>-3.250404</td>\n",
       "      <td>9.907160</td>\n",
       "      <td>1.170713</td>\n",
       "      <td>-2.602643</td>\n",
       "      <td>4.128296</td>\n",
       "      <td>0.953919</td>\n",
       "      <td>0</td>\n",
       "      <td>0</td>\n",
       "      <td>1</td>\n",
       "      <td>...</td>\n",
       "      <td>1</td>\n",
       "      <td>0</td>\n",
       "      <td>0</td>\n",
       "      <td>0</td>\n",
       "      <td>0</td>\n",
       "      <td>0</td>\n",
       "      <td>0</td>\n",
       "      <td>0</td>\n",
       "      <td>0</td>\n",
       "      <td>0</td>\n",
       "    </tr>\n",
       "    <tr>\n",
       "      <th>4204</th>\n",
       "      <td>21.713136</td>\n",
       "      <td>-6.626085</td>\n",
       "      <td>9.336919</td>\n",
       "      <td>-4.900983</td>\n",
       "      <td>2.640159</td>\n",
       "      <td>-1.761857</td>\n",
       "      <td>-3.142760</td>\n",
       "      <td>0</td>\n",
       "      <td>0</td>\n",
       "      <td>0</td>\n",
       "      <td>...</td>\n",
       "      <td>0</td>\n",
       "      <td>1</td>\n",
       "      <td>0</td>\n",
       "      <td>0</td>\n",
       "      <td>0</td>\n",
       "      <td>0</td>\n",
       "      <td>0</td>\n",
       "      <td>0</td>\n",
       "      <td>0</td>\n",
       "      <td>0</td>\n",
       "    </tr>\n",
       "    <tr>\n",
       "      <th>4205</th>\n",
       "      <td>7.578831</td>\n",
       "      <td>8.296185</td>\n",
       "      <td>10.235139</td>\n",
       "      <td>-7.791041</td>\n",
       "      <td>-2.056715</td>\n",
       "      <td>-3.734564</td>\n",
       "      <td>1.900540</td>\n",
       "      <td>1</td>\n",
       "      <td>1</td>\n",
       "      <td>0</td>\n",
       "      <td>...</td>\n",
       "      <td>0</td>\n",
       "      <td>0</td>\n",
       "      <td>1</td>\n",
       "      <td>0</td>\n",
       "      <td>0</td>\n",
       "      <td>0</td>\n",
       "      <td>0</td>\n",
       "      <td>0</td>\n",
       "      <td>0</td>\n",
       "      <td>0</td>\n",
       "    </tr>\n",
       "    <tr>\n",
       "      <th>4206</th>\n",
       "      <td>-15.148840</td>\n",
       "      <td>8.868998</td>\n",
       "      <td>10.956625</td>\n",
       "      <td>6.033811</td>\n",
       "      <td>3.172155</td>\n",
       "      <td>-2.929668</td>\n",
       "      <td>-1.338076</td>\n",
       "      <td>0</td>\n",
       "      <td>0</td>\n",
       "      <td>1</td>\n",
       "      <td>...</td>\n",
       "      <td>0</td>\n",
       "      <td>0</td>\n",
       "      <td>0</td>\n",
       "      <td>0</td>\n",
       "      <td>0</td>\n",
       "      <td>0</td>\n",
       "      <td>0</td>\n",
       "      <td>0</td>\n",
       "      <td>0</td>\n",
       "      <td>0</td>\n",
       "    </tr>\n",
       "    <tr>\n",
       "      <th>4207</th>\n",
       "      <td>NaN</td>\n",
       "      <td>NaN</td>\n",
       "      <td>NaN</td>\n",
       "      <td>NaN</td>\n",
       "      <td>NaN</td>\n",
       "      <td>NaN</td>\n",
       "      <td>NaN</td>\n",
       "      <td>0</td>\n",
       "      <td>0</td>\n",
       "      <td>0</td>\n",
       "      <td>...</td>\n",
       "      <td>1</td>\n",
       "      <td>0</td>\n",
       "      <td>0</td>\n",
       "      <td>0</td>\n",
       "      <td>0</td>\n",
       "      <td>0</td>\n",
       "      <td>0</td>\n",
       "      <td>0</td>\n",
       "      <td>0</td>\n",
       "      <td>0</td>\n",
       "    </tr>\n",
       "  </tbody>\n",
       "</table>\n",
       "<p>4208 rows × 362 columns</p>\n",
       "</div>"
      ],
      "text/plain": [
       "             C1         C2         C3        C4        C5        C6        C7  \\\n",
       "0      0.198954   1.616359  10.923829 -8.113448  0.214179 -4.076486 -3.490563   \n",
       "1      1.847106   1.893616  11.182094 -6.908097 -6.277695  1.698880  1.527916   \n",
       "2     15.864642  12.133895  11.672028 -1.547777 -4.199876  2.962037 -0.133222   \n",
       "3     17.317297  -6.761593  10.775261 -1.030741 -5.876388  1.635671  2.901362   \n",
       "4     16.798361   1.981552  10.858260 -2.653132  5.926119 -0.805132  1.722765   \n",
       "...         ...        ...        ...       ...       ...       ...       ...   \n",
       "4203  22.916251  -3.250404   9.907160  1.170713 -2.602643  4.128296  0.953919   \n",
       "4204  21.713136  -6.626085   9.336919 -4.900983  2.640159 -1.761857 -3.142760   \n",
       "4205   7.578831   8.296185  10.235139 -7.791041 -2.056715 -3.734564  1.900540   \n",
       "4206 -15.148840   8.868998  10.956625  6.033811  3.172155 -2.929668 -1.338076   \n",
       "4207        NaN        NaN        NaN       NaN       NaN       NaN       NaN   \n",
       "\n",
       "      X12  X13  X14  ...  X375  X376  X377  X378  X379  X380  X382  X383  \\\n",
       "0       0    1    0  ...     0     0     1     0     0     0     0     0   \n",
       "1       0    0    0  ...     1     0     0     0     0     0     0     0   \n",
       "2       0    0    0  ...     0     0     0     0     0     0     1     0   \n",
       "3       0    0    0  ...     0     0     0     0     0     0     0     0   \n",
       "4       0    0    0  ...     0     0     0     0     0     0     0     0   \n",
       "...   ...  ...  ...  ...   ...   ...   ...   ...   ...   ...   ...   ...   \n",
       "4203    0    0    1  ...     1     0     0     0     0     0     0     0   \n",
       "4204    0    0    0  ...     0     1     0     0     0     0     0     0   \n",
       "4205    1    1    0  ...     0     0     1     0     0     0     0     0   \n",
       "4206    0    0    1  ...     0     0     0     0     0     0     0     0   \n",
       "4207    0    0    0  ...     1     0     0     0     0     0     0     0   \n",
       "\n",
       "      X384  X385  \n",
       "0        0     0  \n",
       "1        0     0  \n",
       "2        0     0  \n",
       "3        0     0  \n",
       "4        0     0  \n",
       "...    ...   ...  \n",
       "4203     0     0  \n",
       "4204     0     0  \n",
       "4205     0     0  \n",
       "4206     0     0  \n",
       "4207     0     0  \n",
       "\n",
       "[4208 rows x 362 columns]"
      ]
     },
     "execution_count": 201,
     "metadata": {},
     "output_type": "execute_result"
    }
   ],
   "source": [
    "x_pca"
   ]
  },
  {
   "cell_type": "code",
   "execution_count": 202,
   "metadata": {},
   "outputs": [],
   "source": [
    "def perform_pca(df,x):\n",
    "    pcaModel=PCA(n_components=7)\n",
    "    pcaModel.fit(x.iloc[:,0:9])\n",
    "    x_pca_c=pd.DataFrame(pcaModel.transform(x.iloc[:,0:9]),columns=['C1','C2','C3','C4','C5','C6','C7'])\n",
    "    x_pca_c=pd.concat([x_pca_c,df.ID],axis=1)\n",
    "    x_non_pca=pd.concat([x.iloc[:,9:],df.ID],axis=1)\n",
    "    x_pca=pd.merge(left=x_pca_c,right=x_non_pca,on='ID',how='inner')\n",
    "    x_pca.drop(columns=['ID'],inplace=True)\n",
    "    return x_pca"
   ]
  },
  {
   "cell_type": "code",
   "execution_count": 203,
   "metadata": {},
   "outputs": [],
   "source": [
    "x_pca=perform_pca(train_df,x)"
   ]
  },
  {
   "cell_type": "code",
   "execution_count": 204,
   "metadata": {},
   "outputs": [
    {
     "data": {
      "text/html": [
       "<div>\n",
       "<style scoped>\n",
       "    .dataframe tbody tr th:only-of-type {\n",
       "        vertical-align: middle;\n",
       "    }\n",
       "\n",
       "    .dataframe tbody tr th {\n",
       "        vertical-align: top;\n",
       "    }\n",
       "\n",
       "    .dataframe thead th {\n",
       "        text-align: right;\n",
       "    }\n",
       "</style>\n",
       "<table border=\"1\" class=\"dataframe\">\n",
       "  <thead>\n",
       "    <tr style=\"text-align: right;\">\n",
       "      <th></th>\n",
       "      <th>C1</th>\n",
       "      <th>C2</th>\n",
       "      <th>C3</th>\n",
       "      <th>C4</th>\n",
       "      <th>C5</th>\n",
       "      <th>C6</th>\n",
       "      <th>C7</th>\n",
       "      <th>X12</th>\n",
       "      <th>X13</th>\n",
       "      <th>X14</th>\n",
       "      <th>...</th>\n",
       "      <th>X375</th>\n",
       "      <th>X376</th>\n",
       "      <th>X377</th>\n",
       "      <th>X378</th>\n",
       "      <th>X379</th>\n",
       "      <th>X380</th>\n",
       "      <th>X382</th>\n",
       "      <th>X383</th>\n",
       "      <th>X384</th>\n",
       "      <th>X385</th>\n",
       "    </tr>\n",
       "  </thead>\n",
       "  <tbody>\n",
       "    <tr>\n",
       "      <th>0</th>\n",
       "      <td>0.198954</td>\n",
       "      <td>1.616359</td>\n",
       "      <td>10.923829</td>\n",
       "      <td>-8.113448</td>\n",
       "      <td>0.214179</td>\n",
       "      <td>-4.076486</td>\n",
       "      <td>-3.490563</td>\n",
       "      <td>0</td>\n",
       "      <td>1</td>\n",
       "      <td>0</td>\n",
       "      <td>...</td>\n",
       "      <td>0</td>\n",
       "      <td>0</td>\n",
       "      <td>1</td>\n",
       "      <td>0</td>\n",
       "      <td>0</td>\n",
       "      <td>0</td>\n",
       "      <td>0</td>\n",
       "      <td>0</td>\n",
       "      <td>0</td>\n",
       "      <td>0</td>\n",
       "    </tr>\n",
       "    <tr>\n",
       "      <th>1</th>\n",
       "      <td>1.847106</td>\n",
       "      <td>1.893616</td>\n",
       "      <td>11.182094</td>\n",
       "      <td>-6.908097</td>\n",
       "      <td>-6.277695</td>\n",
       "      <td>1.698880</td>\n",
       "      <td>1.527916</td>\n",
       "      <td>0</td>\n",
       "      <td>0</td>\n",
       "      <td>0</td>\n",
       "      <td>...</td>\n",
       "      <td>1</td>\n",
       "      <td>0</td>\n",
       "      <td>0</td>\n",
       "      <td>0</td>\n",
       "      <td>0</td>\n",
       "      <td>0</td>\n",
       "      <td>0</td>\n",
       "      <td>0</td>\n",
       "      <td>0</td>\n",
       "      <td>0</td>\n",
       "    </tr>\n",
       "    <tr>\n",
       "      <th>2</th>\n",
       "      <td>15.864642</td>\n",
       "      <td>12.133895</td>\n",
       "      <td>11.672028</td>\n",
       "      <td>-1.547777</td>\n",
       "      <td>-4.199876</td>\n",
       "      <td>2.962037</td>\n",
       "      <td>-0.133222</td>\n",
       "      <td>0</td>\n",
       "      <td>0</td>\n",
       "      <td>0</td>\n",
       "      <td>...</td>\n",
       "      <td>0</td>\n",
       "      <td>0</td>\n",
       "      <td>0</td>\n",
       "      <td>0</td>\n",
       "      <td>0</td>\n",
       "      <td>0</td>\n",
       "      <td>1</td>\n",
       "      <td>0</td>\n",
       "      <td>0</td>\n",
       "      <td>0</td>\n",
       "    </tr>\n",
       "    <tr>\n",
       "      <th>3</th>\n",
       "      <td>17.317297</td>\n",
       "      <td>-6.761593</td>\n",
       "      <td>10.775261</td>\n",
       "      <td>-1.030741</td>\n",
       "      <td>-5.876388</td>\n",
       "      <td>1.635671</td>\n",
       "      <td>2.901362</td>\n",
       "      <td>0</td>\n",
       "      <td>0</td>\n",
       "      <td>0</td>\n",
       "      <td>...</td>\n",
       "      <td>0</td>\n",
       "      <td>0</td>\n",
       "      <td>0</td>\n",
       "      <td>0</td>\n",
       "      <td>0</td>\n",
       "      <td>0</td>\n",
       "      <td>0</td>\n",
       "      <td>0</td>\n",
       "      <td>0</td>\n",
       "      <td>0</td>\n",
       "    </tr>\n",
       "    <tr>\n",
       "      <th>4</th>\n",
       "      <td>16.798361</td>\n",
       "      <td>1.981552</td>\n",
       "      <td>10.858260</td>\n",
       "      <td>-2.653132</td>\n",
       "      <td>5.926119</td>\n",
       "      <td>-0.805132</td>\n",
       "      <td>1.722765</td>\n",
       "      <td>0</td>\n",
       "      <td>0</td>\n",
       "      <td>0</td>\n",
       "      <td>...</td>\n",
       "      <td>0</td>\n",
       "      <td>0</td>\n",
       "      <td>0</td>\n",
       "      <td>0</td>\n",
       "      <td>0</td>\n",
       "      <td>0</td>\n",
       "      <td>0</td>\n",
       "      <td>0</td>\n",
       "      <td>0</td>\n",
       "      <td>0</td>\n",
       "    </tr>\n",
       "  </tbody>\n",
       "</table>\n",
       "<p>5 rows × 362 columns</p>\n",
       "</div>"
      ],
      "text/plain": [
       "          C1         C2         C3        C4        C5        C6        C7  \\\n",
       "0   0.198954   1.616359  10.923829 -8.113448  0.214179 -4.076486 -3.490563   \n",
       "1   1.847106   1.893616  11.182094 -6.908097 -6.277695  1.698880  1.527916   \n",
       "2  15.864642  12.133895  11.672028 -1.547777 -4.199876  2.962037 -0.133222   \n",
       "3  17.317297  -6.761593  10.775261 -1.030741 -5.876388  1.635671  2.901362   \n",
       "4  16.798361   1.981552  10.858260 -2.653132  5.926119 -0.805132  1.722765   \n",
       "\n",
       "   X12  X13  X14  ...  X375  X376  X377  X378  X379  X380  X382  X383  X384  \\\n",
       "0    0    1    0  ...     0     0     1     0     0     0     0     0     0   \n",
       "1    0    0    0  ...     1     0     0     0     0     0     0     0     0   \n",
       "2    0    0    0  ...     0     0     0     0     0     0     1     0     0   \n",
       "3    0    0    0  ...     0     0     0     0     0     0     0     0     0   \n",
       "4    0    0    0  ...     0     0     0     0     0     0     0     0     0   \n",
       "\n",
       "   X385  \n",
       "0     0  \n",
       "1     0  \n",
       "2     0  \n",
       "3     0  \n",
       "4     0  \n",
       "\n",
       "[5 rows x 362 columns]"
      ]
     },
     "execution_count": 204,
     "metadata": {},
     "output_type": "execute_result"
    }
   ],
   "source": [
    "x_pca.head()"
   ]
  },
  {
   "cell_type": "code",
   "execution_count": 205,
   "metadata": {},
   "outputs": [
    {
     "name": "stdout",
     "output_type": "stream",
     "text": [
      "0.614560285632933\n",
      "0.6199092032551441\n"
     ]
    }
   ],
   "source": [
    "x_train,x_test,y_train,y_test=train_test_split(x_pca,y,random_state=20,train_size=0.7)\n",
    "xgbModel=XGBRegressor(max_depth=4, min_child_weight=5, reg_lambda=100, gamma = 200)\n",
    "xgbModel.fit(x_train,y_train)\n",
    "print(xgbModel.score(x_train,y_train))\n",
    "print(xgbModel.score(x_test,y_test))"
   ]
  },
  {
   "cell_type": "code",
   "execution_count": 206,
   "metadata": {},
   "outputs": [],
   "source": [
    "from sklearn.model_selection import GridSearchCV"
   ]
  },
  {
   "cell_type": "code",
   "execution_count": 207,
   "metadata": {},
   "outputs": [],
   "source": [
    "param_grid = {'reg_lambda': [100,200,500],'gamma':[100, 150, 200],'min_child_weight':[4,5,6]}"
   ]
  },
  {
   "cell_type": "code",
   "execution_count": 208,
   "metadata": {},
   "outputs": [],
   "source": [
    "xgbModel_final=XGBRegressor(max_depth=4, min_child_weight=4, reg_lambda=100, gamma=150)"
   ]
  },
  {
   "cell_type": "code",
   "execution_count": 209,
   "metadata": {},
   "outputs": [
    {
     "data": {
      "text/plain": [
       "XGBRegressor(base_score=0.5, booster=None, colsample_bylevel=1,\n",
       "             colsample_bynode=1, colsample_bytree=1, gamma=150, gpu_id=-1,\n",
       "             importance_type='gain', interaction_constraints=None,\n",
       "             learning_rate=0.300000012, max_delta_step=0, max_depth=4,\n",
       "             min_child_weight=4, missing=nan, monotone_constraints=None,\n",
       "             n_estimators=100, n_jobs=0, num_parallel_tree=1,\n",
       "             objective='reg:squarederror', random_state=0, reg_alpha=0,\n",
       "             reg_lambda=100, scale_pos_weight=1, subsample=1, tree_method=None,\n",
       "             validate_parameters=False, verbosity=None)"
      ]
     },
     "execution_count": 209,
     "metadata": {},
     "output_type": "execute_result"
    }
   ],
   "source": [
    "xgbModel_final.fit(x_train,y_train)"
   ]
  },
  {
   "cell_type": "code",
   "execution_count": 230,
   "metadata": {},
   "outputs": [
    {
     "data": {
      "text/plain": [
       "0.6397577157407909"
      ]
     },
     "execution_count": 230,
     "metadata": {},
     "output_type": "execute_result"
    }
   ],
   "source": [
    "xgbModel_final.score(x_train,y_train)"
   ]
  },
  {
   "cell_type": "code",
   "execution_count": 231,
   "metadata": {},
   "outputs": [
    {
     "data": {
      "text/plain": [
       "0.6155810248715239"
      ]
     },
     "execution_count": 231,
     "metadata": {},
     "output_type": "execute_result"
    }
   ],
   "source": [
    "xgbModel_final.score(x_test,y_test)"
   ]
  },
  {
   "cell_type": "code",
   "execution_count": 232,
   "metadata": {},
   "outputs": [],
   "source": [
    "#Predicting outcome on test data\n",
    "\n",
    "test_df = pd.read_csv('Merecedes_test.csv')"
   ]
  },
  {
   "cell_type": "code",
   "execution_count": 233,
   "metadata": {},
   "outputs": [
    {
     "data": {
      "text/html": [
       "<div>\n",
       "<style scoped>\n",
       "    .dataframe tbody tr th:only-of-type {\n",
       "        vertical-align: middle;\n",
       "    }\n",
       "\n",
       "    .dataframe tbody tr th {\n",
       "        vertical-align: top;\n",
       "    }\n",
       "\n",
       "    .dataframe thead th {\n",
       "        text-align: right;\n",
       "    }\n",
       "</style>\n",
       "<table border=\"1\" class=\"dataframe\">\n",
       "  <thead>\n",
       "    <tr style=\"text-align: right;\">\n",
       "      <th></th>\n",
       "      <th>ID</th>\n",
       "      <th>X0</th>\n",
       "      <th>X1</th>\n",
       "      <th>X2</th>\n",
       "      <th>X3</th>\n",
       "      <th>X4</th>\n",
       "      <th>X5</th>\n",
       "      <th>X6</th>\n",
       "      <th>X8</th>\n",
       "      <th>X10</th>\n",
       "      <th>...</th>\n",
       "      <th>X375</th>\n",
       "      <th>X376</th>\n",
       "      <th>X377</th>\n",
       "      <th>X378</th>\n",
       "      <th>X379</th>\n",
       "      <th>X380</th>\n",
       "      <th>X382</th>\n",
       "      <th>X383</th>\n",
       "      <th>X384</th>\n",
       "      <th>X385</th>\n",
       "    </tr>\n",
       "  </thead>\n",
       "  <tbody>\n",
       "    <tr>\n",
       "      <th>0</th>\n",
       "      <td>1</td>\n",
       "      <td>az</td>\n",
       "      <td>v</td>\n",
       "      <td>n</td>\n",
       "      <td>f</td>\n",
       "      <td>d</td>\n",
       "      <td>t</td>\n",
       "      <td>a</td>\n",
       "      <td>w</td>\n",
       "      <td>0</td>\n",
       "      <td>...</td>\n",
       "      <td>0</td>\n",
       "      <td>0</td>\n",
       "      <td>0</td>\n",
       "      <td>1</td>\n",
       "      <td>0</td>\n",
       "      <td>0</td>\n",
       "      <td>0</td>\n",
       "      <td>0</td>\n",
       "      <td>0</td>\n",
       "      <td>0</td>\n",
       "    </tr>\n",
       "    <tr>\n",
       "      <th>1</th>\n",
       "      <td>2</td>\n",
       "      <td>t</td>\n",
       "      <td>b</td>\n",
       "      <td>ai</td>\n",
       "      <td>a</td>\n",
       "      <td>d</td>\n",
       "      <td>b</td>\n",
       "      <td>g</td>\n",
       "      <td>y</td>\n",
       "      <td>0</td>\n",
       "      <td>...</td>\n",
       "      <td>0</td>\n",
       "      <td>0</td>\n",
       "      <td>1</td>\n",
       "      <td>0</td>\n",
       "      <td>0</td>\n",
       "      <td>0</td>\n",
       "      <td>0</td>\n",
       "      <td>0</td>\n",
       "      <td>0</td>\n",
       "      <td>0</td>\n",
       "    </tr>\n",
       "    <tr>\n",
       "      <th>2</th>\n",
       "      <td>3</td>\n",
       "      <td>az</td>\n",
       "      <td>v</td>\n",
       "      <td>as</td>\n",
       "      <td>f</td>\n",
       "      <td>d</td>\n",
       "      <td>a</td>\n",
       "      <td>j</td>\n",
       "      <td>j</td>\n",
       "      <td>0</td>\n",
       "      <td>...</td>\n",
       "      <td>0</td>\n",
       "      <td>0</td>\n",
       "      <td>0</td>\n",
       "      <td>1</td>\n",
       "      <td>0</td>\n",
       "      <td>0</td>\n",
       "      <td>0</td>\n",
       "      <td>0</td>\n",
       "      <td>0</td>\n",
       "      <td>0</td>\n",
       "    </tr>\n",
       "    <tr>\n",
       "      <th>3</th>\n",
       "      <td>4</td>\n",
       "      <td>az</td>\n",
       "      <td>l</td>\n",
       "      <td>n</td>\n",
       "      <td>f</td>\n",
       "      <td>d</td>\n",
       "      <td>z</td>\n",
       "      <td>l</td>\n",
       "      <td>n</td>\n",
       "      <td>0</td>\n",
       "      <td>...</td>\n",
       "      <td>0</td>\n",
       "      <td>0</td>\n",
       "      <td>0</td>\n",
       "      <td>1</td>\n",
       "      <td>0</td>\n",
       "      <td>0</td>\n",
       "      <td>0</td>\n",
       "      <td>0</td>\n",
       "      <td>0</td>\n",
       "      <td>0</td>\n",
       "    </tr>\n",
       "    <tr>\n",
       "      <th>4</th>\n",
       "      <td>5</td>\n",
       "      <td>w</td>\n",
       "      <td>s</td>\n",
       "      <td>as</td>\n",
       "      <td>c</td>\n",
       "      <td>d</td>\n",
       "      <td>y</td>\n",
       "      <td>i</td>\n",
       "      <td>m</td>\n",
       "      <td>0</td>\n",
       "      <td>...</td>\n",
       "      <td>1</td>\n",
       "      <td>0</td>\n",
       "      <td>0</td>\n",
       "      <td>0</td>\n",
       "      <td>0</td>\n",
       "      <td>0</td>\n",
       "      <td>0</td>\n",
       "      <td>0</td>\n",
       "      <td>0</td>\n",
       "      <td>0</td>\n",
       "    </tr>\n",
       "  </tbody>\n",
       "</table>\n",
       "<p>5 rows × 377 columns</p>\n",
       "</div>"
      ],
      "text/plain": [
       "   ID  X0 X1  X2 X3 X4 X5 X6 X8  X10  ...  X375  X376  X377  X378  X379  X380  \\\n",
       "0   1  az  v   n  f  d  t  a  w    0  ...     0     0     0     1     0     0   \n",
       "1   2   t  b  ai  a  d  b  g  y    0  ...     0     0     1     0     0     0   \n",
       "2   3  az  v  as  f  d  a  j  j    0  ...     0     0     0     1     0     0   \n",
       "3   4  az  l   n  f  d  z  l  n    0  ...     0     0     0     1     0     0   \n",
       "4   5   w  s  as  c  d  y  i  m    0  ...     1     0     0     0     0     0   \n",
       "\n",
       "   X382  X383  X384  X385  \n",
       "0     0     0     0     0  \n",
       "1     0     0     0     0  \n",
       "2     0     0     0     0  \n",
       "3     0     0     0     0  \n",
       "4     0     0     0     0  \n",
       "\n",
       "[5 rows x 377 columns]"
      ]
     },
     "execution_count": 233,
     "metadata": {},
     "output_type": "execute_result"
    }
   ],
   "source": [
    "test_df.head()"
   ]
  },
  {
   "cell_type": "code",
   "execution_count": 234,
   "metadata": {},
   "outputs": [
    {
     "data": {
      "text/plain": [
       "['X257', 'X258', 'X295', 'X296', 'X369']"
      ]
     },
     "execution_count": 234,
     "metadata": {},
     "output_type": "execute_result"
    }
   ],
   "source": [
    "var_zero_cols(test_df)"
   ]
  },
  {
   "cell_type": "code",
   "execution_count": 235,
   "metadata": {},
   "outputs": [],
   "source": [
    "test_df.drop(columns=['X297', 'X11', 'X290', 'X293', 'X268', 'X233', 'X93', 'X289', 'X235', 'X107', 'X330', 'X347'],inplace=True)"
   ]
  },
  {
   "cell_type": "code",
   "execution_count": 236,
   "metadata": {},
   "outputs": [],
   "source": [
    "transform_X0(test_df)"
   ]
  },
  {
   "cell_type": "code",
   "execution_count": 237,
   "metadata": {},
   "outputs": [],
   "source": [
    "transform_X1(test_df)"
   ]
  },
  {
   "cell_type": "code",
   "execution_count": 238,
   "metadata": {},
   "outputs": [],
   "source": [
    "transform_X5(test_df)"
   ]
  },
  {
   "cell_type": "code",
   "execution_count": 239,
   "metadata": {},
   "outputs": [],
   "source": [
    "x=test_df.drop(columns=['ID'])"
   ]
  },
  {
   "cell_type": "code",
   "execution_count": 240,
   "metadata": {},
   "outputs": [],
   "source": [
    "transform_labels(test_df,x)"
   ]
  },
  {
   "cell_type": "code",
   "execution_count": 241,
   "metadata": {},
   "outputs": [
    {
     "data": {
      "text/html": [
       "<div>\n",
       "<style scoped>\n",
       "    .dataframe tbody tr th:only-of-type {\n",
       "        vertical-align: middle;\n",
       "    }\n",
       "\n",
       "    .dataframe tbody tr th {\n",
       "        vertical-align: top;\n",
       "    }\n",
       "\n",
       "    .dataframe thead th {\n",
       "        text-align: right;\n",
       "    }\n",
       "</style>\n",
       "<table border=\"1\" class=\"dataframe\">\n",
       "  <thead>\n",
       "    <tr style=\"text-align: right;\">\n",
       "      <th></th>\n",
       "      <th>X0</th>\n",
       "      <th>X1</th>\n",
       "      <th>X2</th>\n",
       "      <th>X3</th>\n",
       "      <th>X4</th>\n",
       "      <th>X5</th>\n",
       "      <th>X6</th>\n",
       "      <th>X8</th>\n",
       "      <th>X10</th>\n",
       "      <th>X12</th>\n",
       "      <th>...</th>\n",
       "      <th>X375</th>\n",
       "      <th>X376</th>\n",
       "      <th>X377</th>\n",
       "      <th>X378</th>\n",
       "      <th>X379</th>\n",
       "      <th>X380</th>\n",
       "      <th>X382</th>\n",
       "      <th>X383</th>\n",
       "      <th>X384</th>\n",
       "      <th>X385</th>\n",
       "    </tr>\n",
       "  </thead>\n",
       "  <tbody>\n",
       "    <tr>\n",
       "      <th>0</th>\n",
       "      <td>5</td>\n",
       "      <td>9</td>\n",
       "      <td>34</td>\n",
       "      <td>5</td>\n",
       "      <td>3</td>\n",
       "      <td>0</td>\n",
       "      <td>0</td>\n",
       "      <td>22</td>\n",
       "      <td>0</td>\n",
       "      <td>0</td>\n",
       "      <td>...</td>\n",
       "      <td>0</td>\n",
       "      <td>0</td>\n",
       "      <td>0</td>\n",
       "      <td>1</td>\n",
       "      <td>0</td>\n",
       "      <td>0</td>\n",
       "      <td>0</td>\n",
       "      <td>0</td>\n",
       "      <td>0</td>\n",
       "      <td>0</td>\n",
       "    </tr>\n",
       "    <tr>\n",
       "      <th>1</th>\n",
       "      <td>11</td>\n",
       "      <td>3</td>\n",
       "      <td>8</td>\n",
       "      <td>0</td>\n",
       "      <td>3</td>\n",
       "      <td>0</td>\n",
       "      <td>6</td>\n",
       "      <td>24</td>\n",
       "      <td>0</td>\n",
       "      <td>0</td>\n",
       "      <td>...</td>\n",
       "      <td>0</td>\n",
       "      <td>0</td>\n",
       "      <td>1</td>\n",
       "      <td>0</td>\n",
       "      <td>0</td>\n",
       "      <td>0</td>\n",
       "      <td>0</td>\n",
       "      <td>0</td>\n",
       "      <td>0</td>\n",
       "      <td>0</td>\n",
       "    </tr>\n",
       "    <tr>\n",
       "      <th>2</th>\n",
       "      <td>5</td>\n",
       "      <td>9</td>\n",
       "      <td>17</td>\n",
       "      <td>5</td>\n",
       "      <td>3</td>\n",
       "      <td>0</td>\n",
       "      <td>9</td>\n",
       "      <td>9</td>\n",
       "      <td>0</td>\n",
       "      <td>0</td>\n",
       "      <td>...</td>\n",
       "      <td>0</td>\n",
       "      <td>0</td>\n",
       "      <td>0</td>\n",
       "      <td>1</td>\n",
       "      <td>0</td>\n",
       "      <td>0</td>\n",
       "      <td>0</td>\n",
       "      <td>0</td>\n",
       "      <td>0</td>\n",
       "      <td>0</td>\n",
       "    </tr>\n",
       "    <tr>\n",
       "      <th>3</th>\n",
       "      <td>5</td>\n",
       "      <td>6</td>\n",
       "      <td>34</td>\n",
       "      <td>5</td>\n",
       "      <td>3</td>\n",
       "      <td>0</td>\n",
       "      <td>11</td>\n",
       "      <td>13</td>\n",
       "      <td>0</td>\n",
       "      <td>0</td>\n",
       "      <td>...</td>\n",
       "      <td>0</td>\n",
       "      <td>0</td>\n",
       "      <td>0</td>\n",
       "      <td>1</td>\n",
       "      <td>0</td>\n",
       "      <td>0</td>\n",
       "      <td>0</td>\n",
       "      <td>0</td>\n",
       "      <td>0</td>\n",
       "      <td>0</td>\n",
       "    </tr>\n",
       "    <tr>\n",
       "      <th>4</th>\n",
       "      <td>12</td>\n",
       "      <td>8</td>\n",
       "      <td>17</td>\n",
       "      <td>2</td>\n",
       "      <td>3</td>\n",
       "      <td>0</td>\n",
       "      <td>8</td>\n",
       "      <td>12</td>\n",
       "      <td>0</td>\n",
       "      <td>0</td>\n",
       "      <td>...</td>\n",
       "      <td>1</td>\n",
       "      <td>0</td>\n",
       "      <td>0</td>\n",
       "      <td>0</td>\n",
       "      <td>0</td>\n",
       "      <td>0</td>\n",
       "      <td>0</td>\n",
       "      <td>0</td>\n",
       "      <td>0</td>\n",
       "      <td>0</td>\n",
       "    </tr>\n",
       "  </tbody>\n",
       "</table>\n",
       "<p>5 rows × 364 columns</p>\n",
       "</div>"
      ],
      "text/plain": [
       "   X0  X1  X2  X3  X4  X5  X6  X8  X10  X12  ...  X375  X376  X377  X378  \\\n",
       "0   5   9  34   5   3   0   0  22    0    0  ...     0     0     0     1   \n",
       "1  11   3   8   0   3   0   6  24    0    0  ...     0     0     1     0   \n",
       "2   5   9  17   5   3   0   9   9    0    0  ...     0     0     0     1   \n",
       "3   5   6  34   5   3   0  11  13    0    0  ...     0     0     0     1   \n",
       "4  12   8  17   2   3   0   8  12    0    0  ...     1     0     0     0   \n",
       "\n",
       "   X379  X380  X382  X383  X384  X385  \n",
       "0     0     0     0     0     0     0  \n",
       "1     0     0     0     0     0     0  \n",
       "2     0     0     0     0     0     0  \n",
       "3     0     0     0     0     0     0  \n",
       "4     0     0     0     0     0     0  \n",
       "\n",
       "[5 rows x 364 columns]"
      ]
     },
     "execution_count": 241,
     "metadata": {},
     "output_type": "execute_result"
    }
   ],
   "source": [
    "x.head()"
   ]
  },
  {
   "cell_type": "code",
   "execution_count": 242,
   "metadata": {},
   "outputs": [],
   "source": [
    "x_pca_t=perform_pca(test_df,x)"
   ]
  },
  {
   "cell_type": "code",
   "execution_count": 243,
   "metadata": {},
   "outputs": [],
   "source": [
    "test_pred=pd.DataFrame(xgbModel_final.predict(x_pca_t),columns=['y'])"
   ]
  },
  {
   "cell_type": "code",
   "execution_count": 244,
   "metadata": {},
   "outputs": [],
   "source": [
    "test_pred['ID']=test_df.ID"
   ]
  },
  {
   "cell_type": "code",
   "execution_count": 245,
   "metadata": {},
   "outputs": [
    {
     "data": {
      "text/html": [
       "<div>\n",
       "<style scoped>\n",
       "    .dataframe tbody tr th:only-of-type {\n",
       "        vertical-align: middle;\n",
       "    }\n",
       "\n",
       "    .dataframe tbody tr th {\n",
       "        vertical-align: top;\n",
       "    }\n",
       "\n",
       "    .dataframe thead th {\n",
       "        text-align: right;\n",
       "    }\n",
       "</style>\n",
       "<table border=\"1\" class=\"dataframe\">\n",
       "  <thead>\n",
       "    <tr style=\"text-align: right;\">\n",
       "      <th></th>\n",
       "      <th>y</th>\n",
       "      <th>ID</th>\n",
       "    </tr>\n",
       "  </thead>\n",
       "  <tbody>\n",
       "    <tr>\n",
       "      <th>0</th>\n",
       "      <td>76.399979</td>\n",
       "      <td>1</td>\n",
       "    </tr>\n",
       "    <tr>\n",
       "      <th>1</th>\n",
       "      <td>93.316437</td>\n",
       "      <td>2</td>\n",
       "    </tr>\n",
       "    <tr>\n",
       "      <th>2</th>\n",
       "      <td>78.363388</td>\n",
       "      <td>3</td>\n",
       "    </tr>\n",
       "    <tr>\n",
       "      <th>3</th>\n",
       "      <td>76.843262</td>\n",
       "      <td>4</td>\n",
       "    </tr>\n",
       "    <tr>\n",
       "      <th>4</th>\n",
       "      <td>110.597717</td>\n",
       "      <td>5</td>\n",
       "    </tr>\n",
       "    <tr>\n",
       "      <th>...</th>\n",
       "      <td>...</td>\n",
       "      <td>...</td>\n",
       "    </tr>\n",
       "    <tr>\n",
       "      <th>4204</th>\n",
       "      <td>104.243111</td>\n",
       "      <td>8410</td>\n",
       "    </tr>\n",
       "    <tr>\n",
       "      <th>4205</th>\n",
       "      <td>92.986168</td>\n",
       "      <td>8411</td>\n",
       "    </tr>\n",
       "    <tr>\n",
       "      <th>4206</th>\n",
       "      <td>91.162025</td>\n",
       "      <td>8413</td>\n",
       "    </tr>\n",
       "    <tr>\n",
       "      <th>4207</th>\n",
       "      <td>111.408897</td>\n",
       "      <td>8414</td>\n",
       "    </tr>\n",
       "    <tr>\n",
       "      <th>4208</th>\n",
       "      <td>92.942291</td>\n",
       "      <td>8416</td>\n",
       "    </tr>\n",
       "  </tbody>\n",
       "</table>\n",
       "<p>4209 rows × 2 columns</p>\n",
       "</div>"
      ],
      "text/plain": [
       "               y    ID\n",
       "0      76.399979     1\n",
       "1      93.316437     2\n",
       "2      78.363388     3\n",
       "3      76.843262     4\n",
       "4     110.597717     5\n",
       "...          ...   ...\n",
       "4204  104.243111  8410\n",
       "4205   92.986168  8411\n",
       "4206   91.162025  8413\n",
       "4207  111.408897  8414\n",
       "4208   92.942291  8416\n",
       "\n",
       "[4209 rows x 2 columns]"
      ]
     },
     "execution_count": 245,
     "metadata": {},
     "output_type": "execute_result"
    }
   ],
   "source": [
    "test_pred"
   ]
  },
  {
   "cell_type": "code",
   "execution_count": null,
   "metadata": {},
   "outputs": [],
   "source": []
  }
 ],
 "metadata": {
  "kernelspec": {
   "display_name": "Python 3",
   "language": "python",
   "name": "python3"
  },
  "language_info": {
   "codemirror_mode": {
    "name": "ipython",
    "version": 3
   },
   "file_extension": ".py",
   "mimetype": "text/x-python",
   "name": "python",
   "nbconvert_exporter": "python",
   "pygments_lexer": "ipython3",
   "version": "3.7.6"
  }
 },
 "nbformat": 4,
 "nbformat_minor": 4
}
